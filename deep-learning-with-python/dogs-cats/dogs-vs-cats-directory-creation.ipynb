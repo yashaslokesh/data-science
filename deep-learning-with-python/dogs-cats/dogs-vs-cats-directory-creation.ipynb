{
 "cells": [
  {
   "cell_type": "markdown",
   "metadata": {},
   "source": [
    "**Before running**\n",
    "\n",
    "Use 'kaggle competitions download -c dogs-vs-cats'\n",
    "in your command line if you have the kaggle module installed. It will download the necessary\n",
    ".zip and .csv files from the dogs vs. cats dataset on Kaggle. Or you can\n",
    "download the files directly from the Kaggle website."
   ]
  },
  {
   "cell_type": "code",
   "execution_count": 1,
   "metadata": {},
   "outputs": [],
   "source": [
    "import os\n",
    "import shutil\n",
    "\n",
    "original_dataset_dir = '../data/kaggle-dogs-cats-data/'\n",
    "original_train_dir = os.path.join(original_dataset_dir, 'train')\n",
    "original_test_dir = os.path.join(original_dataset_dir, 'test1')\n",
    "base_dir = '../data/dogs-and-cats-small'\n",
    "os.mkdir(base_dir)\n",
    "\n",
    "train_dir = os.path.join(base_dir, 'train')\n",
    "valid_dir = os.path.join(base_dir, 'validation')\n",
    "test_dir = os.path.join(base_dir, 'test')\n",
    "\n",
    "os.mkdir(train_dir)\n",
    "os.mkdir(valid_dir)\n",
    "os.mkdir(test_dir)\n",
    "\n",
    "train_cats_dir = os.path.join(train_dir, 'cats')\n",
    "train_dogs_dir = os.path.join(train_dir, 'dogs')\n",
    "\n",
    "valid_cats_dir = os.path.join(valid_dir, 'cats')\n",
    "valid_dogs_dir = os.path.join(valid_dir, 'dogs')\n",
    "\n",
    "test_cats_dir = os.path.join(test_dir, 'cats')\n",
    "test_dogs_dir = os.path.join(test_dir, 'dogs')\n",
    "\n",
    "os.mkdir(train_cats_dir)\n",
    "os.mkdir(train_dogs_dir)\n",
    "\n",
    "os.mkdir(valid_cats_dir)\n",
    "os.mkdir(valid_dogs_dir)\n",
    "\n",
    "os.mkdir(test_cats_dir)\n",
    "os.mkdir(test_dogs_dir)\n",
    "\n",
    "count = 0\n",
    "\n",
    "cat_file_names = ('cat.{}.jpg'.format(i) for i in range(2000))\n",
    "for file_name in cat_file_names:\n",
    "    src = os.path.join(original_train_dir, file_name)\n",
    "    if count < 1000:\n",
    "        dest = os.path.join(train_cats_dir, file_name)\n",
    "    elif count < 1500:\n",
    "        dest = os.path.join(valid_cats_dir, file_name)\n",
    "    else:\n",
    "        dest = os.path.join(test_cats_dir, file_name)\n",
    "    \n",
    "    shutil.copyfile(src, dest)\n",
    "    count += 1\n",
    "    \n",
    "        "
   ]
  },
  {
   "cell_type": "code",
   "execution_count": 2,
   "metadata": {},
   "outputs": [],
   "source": [
    "count = 0\n",
    "\n",
    "dog_file_names = ('dog.{}.jpg'.format(i) for i in range(2000))\n",
    "for file_name in dog_file_names:\n",
    "    src = os.path.join(original_train_dir, file_name)\n",
    "    if count < 1000:\n",
    "        dest = os.path.join(train_dogs_dir, file_name)\n",
    "    elif count < 1500:\n",
    "        dest = os.path.join(valid_dogs_dir, file_name)\n",
    "    else:\n",
    "        dest = os.path.join(test_dogs_dir, file_name)\n",
    "    \n",
    "    shutil.copyfile(src, dest)\n",
    "    count += 1"
   ]
  },
  {
   "cell_type": "code",
   "execution_count": 3,
   "metadata": {},
   "outputs": [
    {
     "data": {
      "text/plain": [
       "1000"
      ]
     },
     "execution_count": 3,
     "metadata": {},
     "output_type": "execute_result"
    }
   ],
   "source": [
    "len(os.listdir(train_cats_dir))"
   ]
  },
  {
   "cell_type": "code",
   "execution_count": null,
   "metadata": {
    "collapsed": true
   },
   "outputs": [],
   "source": []
  }
 ],
 "metadata": {
  "kernelspec": {
   "display_name": "Python 3",
   "language": "python",
   "name": "python3"
  },
  "language_info": {
   "codemirror_mode": {
    "name": "ipython",
    "version": 3
   },
   "file_extension": ".py",
   "mimetype": "text/x-python",
   "name": "python",
   "nbconvert_exporter": "python",
   "pygments_lexer": "ipython3",
   "version": "3.6.7"
  }
 },
 "nbformat": 4,
 "nbformat_minor": 2
}
