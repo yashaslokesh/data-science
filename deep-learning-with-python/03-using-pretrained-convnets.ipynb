{
 "cells": [
  {
   "cell_type": "markdown",
   "metadata": {},
   "source": [
    "# Using pre-trained convnets\n",
    "We can use the convolutional bases of models pre-trained on the ImageNet databases. Using part of or all of the convolutional base of another model is practicing **feature extraction**. We can later use **fine-tuning** to further improve the model."
   ]
  },
  {
   "cell_type": "code",
   "execution_count": 1,
   "metadata": {},
   "outputs": [],
   "source": [
    "import os\n",
    "os.environ['MKL_THREADING_LAYER'] = 'GNU'\n",
    "os.environ['KERAS_BACKEND'] = 'tensorflow'"
   ]
  },
  {
   "cell_type": "code",
   "execution_count": 2,
   "metadata": {},
   "outputs": [
    {
     "name": "stderr",
     "output_type": "stream",
     "text": [
      "Using TensorFlow backend.\n"
     ]
    }
   ],
   "source": [
    "from keras.applications import VGG16\n",
    "\n",
    "conv_base = VGG16(include_top=False,\n",
    "                  weights='imagenet',\n",
    "                  input_shape=(150, 150, 3))"
   ]
  },
  {
   "cell_type": "code",
   "execution_count": 3,
   "metadata": {},
   "outputs": [
    {
     "name": "stdout",
     "output_type": "stream",
     "text": [
      "_________________________________________________________________\n",
      "Layer (type)                 Output Shape              Param #   \n",
      "=================================================================\n",
      "input_1 (InputLayer)         (None, 150, 150, 3)       0         \n",
      "_________________________________________________________________\n",
      "block1_conv1 (Conv2D)        (None, 150, 150, 64)      1792      \n",
      "_________________________________________________________________\n",
      "block1_conv2 (Conv2D)        (None, 150, 150, 64)      36928     \n",
      "_________________________________________________________________\n",
      "block1_pool (MaxPooling2D)   (None, 75, 75, 64)        0         \n",
      "_________________________________________________________________\n",
      "block2_conv1 (Conv2D)        (None, 75, 75, 128)       73856     \n",
      "_________________________________________________________________\n",
      "block2_conv2 (Conv2D)        (None, 75, 75, 128)       147584    \n",
      "_________________________________________________________________\n",
      "block2_pool (MaxPooling2D)   (None, 37, 37, 128)       0         \n",
      "_________________________________________________________________\n",
      "block3_conv1 (Conv2D)        (None, 37, 37, 256)       295168    \n",
      "_________________________________________________________________\n",
      "block3_conv2 (Conv2D)        (None, 37, 37, 256)       590080    \n",
      "_________________________________________________________________\n",
      "block3_conv3 (Conv2D)        (None, 37, 37, 256)       590080    \n",
      "_________________________________________________________________\n",
      "block3_pool (MaxPooling2D)   (None, 18, 18, 256)       0         \n",
      "_________________________________________________________________\n",
      "block4_conv1 (Conv2D)        (None, 18, 18, 512)       1180160   \n",
      "_________________________________________________________________\n",
      "block4_conv2 (Conv2D)        (None, 18, 18, 512)       2359808   \n",
      "_________________________________________________________________\n",
      "block4_conv3 (Conv2D)        (None, 18, 18, 512)       2359808   \n",
      "_________________________________________________________________\n",
      "block4_pool (MaxPooling2D)   (None, 9, 9, 512)         0         \n",
      "_________________________________________________________________\n",
      "block5_conv1 (Conv2D)        (None, 9, 9, 512)         2359808   \n",
      "_________________________________________________________________\n",
      "block5_conv2 (Conv2D)        (None, 9, 9, 512)         2359808   \n",
      "_________________________________________________________________\n",
      "block5_conv3 (Conv2D)        (None, 9, 9, 512)         2359808   \n",
      "_________________________________________________________________\n",
      "block5_pool (MaxPooling2D)   (None, 4, 4, 512)         0         \n",
      "=================================================================\n",
      "Total params: 14,714,688\n",
      "Trainable params: 14,714,688\n",
      "Non-trainable params: 0\n",
      "_________________________________________________________________\n"
     ]
    }
   ],
   "source": [
    "conv_base.summary()"
   ]
  },
  {
   "cell_type": "markdown",
   "metadata": {},
   "source": [
    "This is the pre-trained convolutional base from a **VGG16** architecture model. This convolutional base learns abstract spatial patterns in the input data. Now, we want to classify whether the output is a **cat or dog**, so we can add a densely-connected classifier at the end. \n",
    "\n",
    "We have two options: process the output of the convolutional base independently in a classifier, or connect the classifier to the convolutional base. The first option will not allow us to use **data augmentation** because an input image will only be run through the model once, but we have less computations. The second option allows us to use **data augmentation**, but will be more expensive since an image will be run through the base every time the model receives it as input."
   ]
  },
  {
   "cell_type": "markdown",
   "metadata": {},
   "source": [
    "# Fast image classification"
   ]
  },
  {
   "cell_type": "code",
   "execution_count": 4,
   "metadata": {},
   "outputs": [],
   "source": [
    "import os\n",
    "import numpy as np\n",
    "from keras.preprocessing.image import ImageDataGenerator"
   ]
  },
  {
   "cell_type": "code",
   "execution_count": 5,
   "metadata": {},
   "outputs": [
    {
     "data": {
      "text/plain": [
       "['kaggle-dogs-cats-data', 'dogs-and-cats-small']"
      ]
     },
     "execution_count": 5,
     "metadata": {},
     "output_type": "execute_result"
    }
   ],
   "source": [
    "os.listdir('../data')"
   ]
  },
  {
   "cell_type": "code",
   "execution_count": 6,
   "metadata": {},
   "outputs": [
    {
     "data": {
      "text/plain": [
       "['test', 'train', 'validation']"
      ]
     },
     "execution_count": 6,
     "metadata": {},
     "output_type": "execute_result"
    }
   ],
   "source": [
    "os.listdir('../data/dogs-and-cats-small')"
   ]
  },
  {
   "cell_type": "code",
   "execution_count": 7,
   "metadata": {},
   "outputs": [],
   "source": [
    "base_dir = '../data/dogs-and-cats-small'\n",
    "train_dir = os.path.join(base_dir, 'train')\n",
    "valid_dir = os.path.join(base_dir, 'validation')\n",
    "test_dir = os.path.join(base_dir, 'test')\n",
    "\n",
    "datagen = ImageDataGenerator(rescale=1./255)\n",
    "batch_size = 20"
   ]
  },
  {
   "cell_type": "markdown",
   "metadata": {},
   "source": [
    "We'll make a function here that will extract the feature map from the trained convolutional base above. The feature map will be put in a numpy array to be plugged into a classifier"
   ]
  },
  {
   "cell_type": "code",
   "execution_count": 8,
   "metadata": {},
   "outputs": [],
   "source": [
    "def extract_features(directory, sample_count):\n",
    "    # (4, 4, 512) because that's the output shape of the conv. base above\n",
    "    features = np.zeros(shape=(sample_count, 4, 4, 512))\n",
    "    labels = np.zeros(shape=(sample_count))\n",
    "    \n",
    "    generator = datagen.flow_from_directory(\n",
    "        directory,\n",
    "        # Target size is (150, 150) just like our convnet trained from scratch before\n",
    "        target_size=(150, 150),\n",
    "        batch_size=batch_size,\n",
    "        class_mode='binary')\n",
    "    \n",
    "    i = 0\n",
    "    for inputs_batch, labels_batch in generator:\n",
    "        # Generates feature maps for first batch of 20 images from the directory parameter\n",
    "        features_batch = conv_base.predict(inputs_batch)\n",
    "        # Place the predicted feature maps and labels for the batch into the corresponding numpy arrays, in 20 spaces\n",
    "        features[i * batch_size : (i + 1) * batch_size] = features_batch\n",
    "        labels[i * batch_size : (i + 1) * batch_size] = labels_batch\n",
    "        \n",
    "        i += 1\n",
    "        # If we've seen all images once, then break\n",
    "        # 'i' is incremented by one each loop and each loop has a batch size of 20 images, as set before,\n",
    "        # so if 'i * 20' is greater than the desired sample size of images, we exit the loop\n",
    "        if i * batch_size >= sample_count:\n",
    "            break\n",
    "            \n",
    "    # Returns the numpy arrays of feature maps and corresponding labels\n",
    "    return features, labels"
   ]
  },
  {
   "cell_type": "code",
   "execution_count": 9,
   "metadata": {},
   "outputs": [
    {
     "name": "stdout",
     "output_type": "stream",
     "text": [
      "Found 2000 images belonging to 2 classes.\n",
      "Found 1000 images belonging to 2 classes.\n",
      "Found 1000 images belonging to 2 classes.\n"
     ]
    }
   ],
   "source": [
    "\"\"\"The features are all of shape (sample_count, 4, 4, 512) because they came\n",
    "straight from the conv. base's prediction. The densely connected classifier only uses\n",
    "flattened data, so we can flatten the data before putting them in a classifier\n",
    "\"\"\"\n",
    "train_features, train_labels = extract_features(train_dir, 2000)\n",
    "valid_features, valid_labels = extract_features(valid_dir, 1000)\n",
    "test_features, test_labels = extract_features(test_dir, 1000)"
   ]
  },
  {
   "cell_type": "code",
   "execution_count": 10,
   "metadata": {},
   "outputs": [],
   "source": [
    "# Here, we flatten the numpy arrays for densely-connected classification\n",
    "train_features = np.reshape(train_features, (2000, 4 * 4 * 512))\n",
    "valid_features = np.reshape(valid_features, (1000, 4 * 4 * 512))\n",
    "test_features = np.reshape(test_features, (1000, 4 * 4 * 512))"
   ]
  },
  {
   "cell_type": "code",
   "execution_count": 11,
   "metadata": {},
   "outputs": [],
   "source": [
    "# Now we create the densly connected classifier\n",
    "from keras import models\n",
    "from keras import layers\n",
    "from keras import optimizers\n",
    "\n",
    "model = models.Sequential()\n",
    "model.add(layers.Dense(256, activation='relu', input_dim=4 * 4 * 512))\n",
    "model.add(layers.Dropout(0.5))\n",
    "model.add(layers.Dense(1, activation='sigmoid'))\n",
    "\n",
    "model.compile(optimizer=optimizers.RMSprop(lr=2e-5),\n",
    "              loss='binary_crossentropy',\n",
    "              metrics=['acc'])"
   ]
  },
  {
   "cell_type": "code",
   "execution_count": 12,
   "metadata": {},
   "outputs": [
    {
     "name": "stdout",
     "output_type": "stream",
     "text": [
      "Train on 2000 samples, validate on 1000 samples\n",
      "Epoch 1/30\n",
      "2000/2000 [==============================] - 1s 745us/step - loss: 0.5919 - acc: 0.6665 - val_loss: 0.4416 - val_acc: 0.8470\n",
      "Epoch 2/30\n",
      "2000/2000 [==============================] - 0s 242us/step - loss: 0.4328 - acc: 0.8115 - val_loss: 0.3651 - val_acc: 0.8610\n",
      "Epoch 3/30\n",
      "2000/2000 [==============================] - 0s 244us/step - loss: 0.3692 - acc: 0.8405 - val_loss: 0.3320 - val_acc: 0.8590\n",
      "Epoch 4/30\n",
      "2000/2000 [==============================] - 0s 245us/step - loss: 0.3203 - acc: 0.8695 - val_loss: 0.3006 - val_acc: 0.8800\n",
      "Epoch 5/30\n",
      "2000/2000 [==============================] - 0s 240us/step - loss: 0.2833 - acc: 0.8880 - val_loss: 0.2801 - val_acc: 0.8920\n",
      "Epoch 6/30\n",
      "2000/2000 [==============================] - 0s 241us/step - loss: 0.2618 - acc: 0.9030 - val_loss: 0.2786 - val_acc: 0.8860\n",
      "Epoch 7/30\n",
      "2000/2000 [==============================] - 0s 245us/step - loss: 0.2462 - acc: 0.9040 - val_loss: 0.2613 - val_acc: 0.9000\n",
      "Epoch 8/30\n",
      "2000/2000 [==============================] - 0s 242us/step - loss: 0.2292 - acc: 0.9160 - val_loss: 0.2560 - val_acc: 0.8960\n",
      "Epoch 9/30\n",
      "2000/2000 [==============================] - 0s 244us/step - loss: 0.2290 - acc: 0.9195 - val_loss: 0.2512 - val_acc: 0.9010\n",
      "Epoch 10/30\n",
      "2000/2000 [==============================] - 0s 241us/step - loss: 0.2098 - acc: 0.9260 - val_loss: 0.2591 - val_acc: 0.8910\n",
      "Epoch 11/30\n",
      "2000/2000 [==============================] - 0s 243us/step - loss: 0.1984 - acc: 0.9270 - val_loss: 0.2435 - val_acc: 0.8980\n",
      "Epoch 12/30\n",
      "2000/2000 [==============================] - 0s 239us/step - loss: 0.1906 - acc: 0.9285 - val_loss: 0.2463 - val_acc: 0.8970\n",
      "Epoch 13/30\n",
      "2000/2000 [==============================] - 0s 240us/step - loss: 0.1783 - acc: 0.9315 - val_loss: 0.2416 - val_acc: 0.9000\n",
      "Epoch 14/30\n",
      "2000/2000 [==============================] - 0s 236us/step - loss: 0.1698 - acc: 0.9340 - val_loss: 0.2377 - val_acc: 0.9020\n",
      "Epoch 15/30\n",
      "2000/2000 [==============================] - 0s 241us/step - loss: 0.1669 - acc: 0.9420 - val_loss: 0.2364 - val_acc: 0.9050\n",
      "Epoch 16/30\n",
      "2000/2000 [==============================] - 0s 243us/step - loss: 0.1556 - acc: 0.9455 - val_loss: 0.2382 - val_acc: 0.9020\n",
      "Epoch 17/30\n",
      "2000/2000 [==============================] - 0s 242us/step - loss: 0.1514 - acc: 0.9465 - val_loss: 0.2341 - val_acc: 0.9050\n",
      "Epoch 18/30\n",
      "2000/2000 [==============================] - 0s 240us/step - loss: 0.1493 - acc: 0.9530 - val_loss: 0.2373 - val_acc: 0.9050\n",
      "Epoch 19/30\n",
      "2000/2000 [==============================] - 0s 240us/step - loss: 0.1414 - acc: 0.9510 - val_loss: 0.2370 - val_acc: 0.9020\n",
      "Epoch 20/30\n",
      "2000/2000 [==============================] - 0s 240us/step - loss: 0.1290 - acc: 0.9560 - val_loss: 0.2461 - val_acc: 0.8970\n",
      "Epoch 21/30\n",
      "2000/2000 [==============================] - 0s 238us/step - loss: 0.1307 - acc: 0.9565 - val_loss: 0.2316 - val_acc: 0.9070\n",
      "Epoch 22/30\n",
      "2000/2000 [==============================] - 0s 240us/step - loss: 0.1223 - acc: 0.9595 - val_loss: 0.2329 - val_acc: 0.9050\n",
      "Epoch 23/30\n",
      "2000/2000 [==============================] - 0s 243us/step - loss: 0.1200 - acc: 0.9595 - val_loss: 0.2478 - val_acc: 0.8990\n",
      "Epoch 24/30\n",
      "2000/2000 [==============================] - 0s 240us/step - loss: 0.1174 - acc: 0.9570 - val_loss: 0.2375 - val_acc: 0.9040\n",
      "Epoch 25/30\n",
      "2000/2000 [==============================] - 0s 244us/step - loss: 0.1130 - acc: 0.9580 - val_loss: 0.2426 - val_acc: 0.9030\n",
      "Epoch 26/30\n",
      "2000/2000 [==============================] - 0s 241us/step - loss: 0.1072 - acc: 0.9650 - val_loss: 0.2351 - val_acc: 0.9030\n",
      "Epoch 27/30\n",
      "2000/2000 [==============================] - 0s 241us/step - loss: 0.1050 - acc: 0.9640 - val_loss: 0.2358 - val_acc: 0.9040\n",
      "Epoch 28/30\n",
      "2000/2000 [==============================] - 0s 240us/step - loss: 0.0948 - acc: 0.9720 - val_loss: 0.2342 - val_acc: 0.9010\n",
      "Epoch 29/30\n",
      "2000/2000 [==============================] - 0s 242us/step - loss: 0.0963 - acc: 0.9675 - val_loss: 0.2614 - val_acc: 0.8950\n",
      "Epoch 30/30\n",
      "2000/2000 [==============================] - 0s 242us/step - loss: 0.0905 - acc: 0.9730 - val_loss: 0.2350 - val_acc: 0.9020\n"
     ]
    }
   ],
   "source": [
    "history = model.fit(train_features, train_labels,\n",
    "                    epochs=30,\n",
    "                    batch_size=20,\n",
    "                    validation_data=(valid_features, valid_labels))"
   ]
  },
  {
   "cell_type": "code",
   "execution_count": 13,
   "metadata": {},
   "outputs": [
    {
     "data": {
      "text/plain": [
       "<Figure size 640x480 with 1 Axes>"
      ]
     },
     "metadata": {},
     "output_type": "display_data"
    },
    {
     "data": {
      "text/plain": [
       "<Figure size 640x480 with 1 Axes>"
      ]
     },
     "metadata": {},
     "output_type": "display_data"
    }
   ],
   "source": [
    "import matplotlib.pyplot as plt\n",
    "\n",
    "acc = history.history['acc']\n",
    "val_acc = history.history['val_acc']\n",
    "loss = history.history['loss']\n",
    "val_loss = history.history['val_loss']\n",
    "\n",
    "epochs = range(1, len(acc) + 1)\n",
    "\n",
    "plt.plot(epochs, acc, 'bo', label='Training acc')\n",
    "plt.plot(epochs, val_acc, 'b', label='Validation acc')\n",
    "plt.title('Training and validation accuracy')\n",
    "plt.legend()\n",
    "\n",
    "plt.figure()\n",
    "\n",
    "plt.plot(epochs, loss, 'bo', label='Training loss')\n",
    "plt.plot(epochs, val_loss, 'b', label='Validation loss')\n",
    "plt.title('Training and validation loss')\n",
    "plt.legend()\n",
    "\n",
    "plt.show()"
   ]
  },
  {
   "cell_type": "markdown",
   "metadata": {},
   "source": [
    "The validation loss is not decreasing, our network is just remembering the data exactly as we input it, and not the patterns in the data. We need to use **data augmentation** since we have a small dataset. This will take much more time, but we should get better results."
   ]
  },
  {
   "cell_type": "code",
   "execution_count": 14,
   "metadata": {},
   "outputs": [
    {
     "name": "stdout",
     "output_type": "stream",
     "text": [
      "_________________________________________________________________\n",
      "Layer (type)                 Output Shape              Param #   \n",
      "=================================================================\n",
      "vgg16 (Model)                (None, 4, 4, 512)         14714688  \n",
      "_________________________________________________________________\n",
      "flatten_1 (Flatten)          (None, 8192)              0         \n",
      "_________________________________________________________________\n",
      "dense_3 (Dense)              (None, 256)               2097408   \n",
      "_________________________________________________________________\n",
      "dense_4 (Dense)              (None, 1)                 257       \n",
      "=================================================================\n",
      "Total params: 16,812,353\n",
      "Trainable params: 16,812,353\n",
      "Non-trainable params: 0\n",
      "_________________________________________________________________\n"
     ]
    }
   ],
   "source": [
    "from keras import models\n",
    "from keras import layers\n",
    "\n",
    "model = models.Sequential()\n",
    "model.add(conv_base)\n",
    "model.add(layers.Flatten())\n",
    "model.add(layers.Dense(256, activation='relu'))\n",
    "model.add(layers.Dense(1, activation='sigmoid'))\n",
    "\n",
    "model.summary()"
   ]
  },
  {
   "cell_type": "markdown",
   "metadata": {},
   "source": [
    "We now have to freeze the convolutional base so that its weights are not affected. The weights were already set when the VGG16 architecture model was trained on ImageNet, and we don't want to mess those weights up because of the initial inaccuracy of the densely-connected classifier we're putting on top of the base."
   ]
  },
  {
   "cell_type": "code",
   "execution_count": 15,
   "metadata": {},
   "outputs": [
    {
     "name": "stdout",
     "output_type": "stream",
     "text": [
      "This is the number of trainable weights before freezing the conv base: 30\n",
      "This is the number of trainable weights after freezing the conv base: 4\n"
     ]
    }
   ],
   "source": [
    "print('This is the number of trainable weights before freezing the conv base:', len(model.trainable_weights))\n",
    "conv_base.trainable = False\n",
    "print('This is the number of trainable weights after freezing the conv base:', len(model.trainable_weights))"
   ]
  },
  {
   "cell_type": "code",
   "execution_count": 16,
   "metadata": {},
   "outputs": [
    {
     "name": "stdout",
     "output_type": "stream",
     "text": [
      "Found 2000 images belonging to 2 classes.\n",
      "Found 1000 images belonging to 2 classes.\n"
     ]
    }
   ],
   "source": [
    "from keras.preprocessing.image import ImageDataGenerator\n",
    "from keras import optimizers\n",
    "\n",
    "# This is the data augmentation part, remixing data to create new artificial data\n",
    "train_datagen = ImageDataGenerator(\n",
    "      rescale=1./255,\n",
    "      rotation_range=40,\n",
    "      width_shift_range=0.2,\n",
    "      height_shift_range=0.2,\n",
    "      shear_range=0.2,\n",
    "      zoom_range=0.2,\n",
    "      horizontal_flip=True,\n",
    "      fill_mode='nearest')\n",
    "\n",
    "valid_datagen = ImageDataGenerator(rescale=1./255)\n",
    "\n",
    "train_generator = train_datagen.flow_from_directory(\n",
    "    train_dir,\n",
    "    target_size=(150, 150),\n",
    "    batch_size=20,\n",
    "    class_mode='binary')\n",
    "\n",
    "valid_generator = valid_datagen.flow_from_directory(\n",
    "    valid_dir,\n",
    "    target_size=(150, 150),\n",
    "    batch_size=20,\n",
    "    class_mode='binary')\n",
    "\n",
    "model.compile(loss='binary_crossentropy',\n",
    "              optimizer=optimizers.RMSprop(lr=2e-5),\n",
    "              metrics=['acc'])"
   ]
  },
  {
   "cell_type": "code",
   "execution_count": 17,
   "metadata": {},
   "outputs": [
    {
     "name": "stdout",
     "output_type": "stream",
     "text": [
      "Epoch 1/30\n",
      "100/100 [==============================] - 22s 215ms/step - loss: 0.6031 - acc: 0.6725 - val_loss: 0.4567 - val_acc: 0.8330\n",
      "Epoch 2/30\n",
      "100/100 [==============================] - 21s 208ms/step - loss: 0.4871 - acc: 0.7860 - val_loss: 0.3756 - val_acc: 0.8600\n",
      "Epoch 3/30\n",
      "100/100 [==============================] - 20s 197ms/step - loss: 0.4470 - acc: 0.7975 - val_loss: 0.3381 - val_acc: 0.8710\n",
      "Epoch 4/30\n",
      "100/100 [==============================] - 20s 204ms/step - loss: 0.4131 - acc: 0.8150 - val_loss: 0.3145 - val_acc: 0.8850\n",
      "Epoch 5/30\n",
      "100/100 [==============================] - 20s 196ms/step - loss: 0.3907 - acc: 0.8220 - val_loss: 0.2990 - val_acc: 0.8870\n",
      "Epoch 6/30\n",
      "100/100 [==============================] - 21s 208ms/step - loss: 0.3717 - acc: 0.8395 - val_loss: 0.2864 - val_acc: 0.8870\n",
      "Epoch 7/30\n",
      "100/100 [==============================] - 20s 196ms/step - loss: 0.3583 - acc: 0.8390 - val_loss: 0.2757 - val_acc: 0.8890\n",
      "Epoch 8/30\n",
      "100/100 [==============================] - 20s 202ms/step - loss: 0.3562 - acc: 0.8400 - val_loss: 0.2739 - val_acc: 0.8880\n",
      "Epoch 9/30\n",
      "100/100 [==============================] - 21s 211ms/step - loss: 0.3330 - acc: 0.8545 - val_loss: 0.2883 - val_acc: 0.8760\n",
      "Epoch 10/30\n",
      "100/100 [==============================] - 21s 206ms/step - loss: 0.3412 - acc: 0.8460 - val_loss: 0.2616 - val_acc: 0.8890\n",
      "Epoch 11/30\n",
      "100/100 [==============================] - 20s 196ms/step - loss: 0.3274 - acc: 0.8600 - val_loss: 0.2540 - val_acc: 0.8960\n",
      "Epoch 12/30\n",
      "100/100 [==============================] - 19s 195ms/step - loss: 0.3165 - acc: 0.8665 - val_loss: 0.2512 - val_acc: 0.9020\n",
      "Epoch 13/30\n",
      "100/100 [==============================] - 20s 197ms/step - loss: 0.3215 - acc: 0.8625 - val_loss: 0.2497 - val_acc: 0.9050\n",
      "Epoch 14/30\n",
      "100/100 [==============================] - 21s 208ms/step - loss: 0.3245 - acc: 0.8580 - val_loss: 0.2531 - val_acc: 0.8970\n",
      "Epoch 15/30\n",
      "100/100 [==============================] - 20s 197ms/step - loss: 0.3159 - acc: 0.8615 - val_loss: 0.2494 - val_acc: 0.8970\n",
      "Epoch 16/30\n",
      "100/100 [==============================] - 20s 196ms/step - loss: 0.3176 - acc: 0.8705 - val_loss: 0.2440 - val_acc: 0.9010\n",
      "Epoch 17/30\n",
      "100/100 [==============================] - 20s 204ms/step - loss: 0.2972 - acc: 0.8755 - val_loss: 0.2447 - val_acc: 0.9010\n",
      "Epoch 18/30\n",
      "100/100 [==============================] - 21s 207ms/step - loss: 0.3050 - acc: 0.8660 - val_loss: 0.2424 - val_acc: 0.8980\n",
      "Epoch 19/30\n",
      "100/100 [==============================] - 20s 203ms/step - loss: 0.2980 - acc: 0.8775 - val_loss: 0.2498 - val_acc: 0.9030\n",
      "Epoch 20/30\n",
      "100/100 [==============================] - 19s 194ms/step - loss: 0.2956 - acc: 0.8770 - val_loss: 0.2440 - val_acc: 0.9030\n",
      "Epoch 21/30\n",
      "100/100 [==============================] - 20s 196ms/step - loss: 0.3117 - acc: 0.8625 - val_loss: 0.2558 - val_acc: 0.8940\n",
      "Epoch 22/30\n",
      "100/100 [==============================] - 21s 209ms/step - loss: 0.3072 - acc: 0.8625 - val_loss: 0.2406 - val_acc: 0.9000\n",
      "Epoch 23/30\n",
      "100/100 [==============================] - 20s 195ms/step - loss: 0.2942 - acc: 0.8640 - val_loss: 0.2402 - val_acc: 0.9040\n",
      "Epoch 24/30\n",
      "100/100 [==============================] - 21s 211ms/step - loss: 0.2894 - acc: 0.8910 - val_loss: 0.2420 - val_acc: 0.9020\n",
      "Epoch 25/30\n",
      "100/100 [==============================] - 20s 196ms/step - loss: 0.2882 - acc: 0.8815 - val_loss: 0.2399 - val_acc: 0.9050\n",
      "Epoch 26/30\n",
      "100/100 [==============================] - 21s 208ms/step - loss: 0.2839 - acc: 0.8735 - val_loss: 0.2406 - val_acc: 0.9000\n",
      "Epoch 27/30\n",
      "100/100 [==============================] - 20s 195ms/step - loss: 0.2932 - acc: 0.8700 - val_loss: 0.2434 - val_acc: 0.9030\n",
      "Epoch 28/30\n",
      "100/100 [==============================] - 20s 196ms/step - loss: 0.2762 - acc: 0.8745 - val_loss: 0.2406 - val_acc: 0.9060\n",
      "Epoch 29/30\n",
      "100/100 [==============================] - 20s 196ms/step - loss: 0.2840 - acc: 0.8785 - val_loss: 0.2724 - val_acc: 0.8830\n",
      "Epoch 30/30\n",
      "100/100 [==============================] - 21s 209ms/step - loss: 0.2829 - acc: 0.8775 - val_loss: 0.2414 - val_acc: 0.9070\n"
     ]
    }
   ],
   "source": [
    "history = model.fit_generator(\n",
    "    train_generator,\n",
    "    steps_per_epoch=100,\n",
    "    epochs=30,\n",
    "    validation_data=valid_generator,\n",
    "    validation_steps=50)"
   ]
  },
  {
   "cell_type": "code",
   "execution_count": 18,
   "metadata": {},
   "outputs": [
    {
     "data": {
      "image/png": "[encoded data removed]",
      "text/plain": [
       "<Figure size 432x288 with 1 Axes>"
      ]
     },
     "metadata": {
      "needs_background": "light"
     },
     "output_type": "display_data"
    },
    {
     "data": {
      "image/png": "[encoded data removed]",
      "text/plain": [
       "<Figure size 432x288 with 1 Axes>"
      ]
     },
     "metadata": {
      "needs_background": "light"
     },
     "output_type": "display_data"
    }
   ],
   "source": [
    "acc = history.history['acc']\n",
    "val_acc = history.history['val_acc']\n",
    "loss = history.history['loss']\n",
    "val_loss = history.history['val_loss']\n",
    "\n",
    "epochs = range(1, len(acc) + 1)\n",
    "\n",
    "plt.plot(epochs, acc, 'bo', label='Training acc')\n",
    "plt.plot(epochs, val_acc, 'b', label='Validation acc')\n",
    "plt.title('Training and validation accuracy')\n",
    "plt.legend()\n",
    "\n",
    "plt.figure()\n",
    "\n",
    "plt.plot(epochs, loss, 'bo', label='Training loss')\n",
    "plt.plot(epochs, val_loss, 'b', label='Validation loss')\n",
    "plt.title('Training and validation loss')\n",
    "plt.legend()\n",
    "\n",
    "plt.show()"
   ]
  },
  {
   "cell_type": "markdown",
   "metadata": {},
   "source": [
    "Remember that we froze the entire convolutional base to train a densely-connected classifier on top. Once we trained this densely-connected classifier, we can now unfreeze some layers in the base to retrain them to our new data. The earlier parts of the convolutional base find patterns like edges, textures, and colors. The later parts of the convolutional base find larger patterns, like eyes or the sky. The earlier layers are likely to be common to many CV problems; the later layers can be changed a little since they are specialized to each problem, or **fine-tuned**, to this problem.\n",
    "\n",
    "Also, the convolutional base has 14.7 million parameters, and we only have 2000 images w/ data augmentation, so we would run a risk of overfitting if we retrained all the layers of the base, because of the ratio of parameters to data."
   ]
  },
  {
   "cell_type": "code",
   "execution_count": 33,
   "metadata": {},
   "outputs": [],
   "source": [
    "conv_base.trainable = True # <-- Make sure to make the whole base trainable first before setting individual layers\n",
    "\n",
    "# conv_base.layers is a list of layers in the conv_base model\n",
    "for layer in conv_base.layers:\n",
    "    if 'block5' in layer.name:\n",
    "        layer.trainable = True\n",
    "    else:\n",
    "        layer.trainable = False"
   ]
  },
  {
   "cell_type": "code",
   "execution_count": 34,
   "metadata": {},
   "outputs": [
    {
     "name": "stdout",
     "output_type": "stream",
     "text": [
      "<keras.engine.topology.InputLayer object at 0x7fb1081685c0> False\n",
      "<keras.layers.convolutional.Conv2D object at 0x7fb07e6506d8> False\n",
      "<keras.layers.convolutional.Conv2D object at 0x7fb07e6506a0> False\n",
      "<keras.layers.pooling.MaxPooling2D object at 0x7fb07e6507f0> False\n",
      "<keras.layers.convolutional.Conv2D object at 0x7fb07e67ce48> False\n",
      "<keras.layers.convolutional.Conv2D object at 0x7fb07de22f60> False\n",
      "<keras.layers.pooling.MaxPooling2D object at 0x7fb07de3c320> False\n",
      "<keras.layers.convolutional.Conv2D object at 0x7fb07dddf5c0> False\n",
      "<keras.layers.convolutional.Conv2D object at 0x7fb07dd82fd0> False\n",
      "<keras.layers.convolutional.Conv2D object at 0x7fb07dd9c518> False\n",
      "<keras.layers.pooling.MaxPooling2D object at 0x7fb07ddbe7f0> False\n",
      "<keras.layers.convolutional.Conv2D object at 0x7fb07dd5d5c0> False\n",
      "<keras.layers.convolutional.Conv2D object at 0x7fb07dd80fd0> False\n",
      "<keras.layers.convolutional.Conv2D object at 0x7fb07dd1a518> False\n",
      "<keras.layers.pooling.MaxPooling2D object at 0x7fb07dd3a7f0> False\n",
      "<keras.layers.convolutional.Conv2D object at 0x7fb07dcd75c0> True\n",
      "<keras.layers.convolutional.Conv2D object at 0x7fb07dcfcfd0> True\n",
      "<keras.layers.convolutional.Conv2D object at 0x7fb07dc96518> True\n",
      "<keras.layers.pooling.MaxPooling2D object at 0x7fb07dcb6828> True\n"
     ]
    }
   ],
   "source": [
    "for layer in conv_base.layers:\n",
    "    print(layer, layer.trainable)"
   ]
  },
  {
   "cell_type": "code",
   "execution_count": 35,
   "metadata": {},
   "outputs": [
    {
     "name": "stdout",
     "output_type": "stream",
     "text": [
      "_________________________________________________________________\n",
      "Layer (type)                 Output Shape              Param #   \n",
      "=================================================================\n",
      "vgg16 (Model)                (None, 4, 4, 512)         14714688  \n",
      "_________________________________________________________________\n",
      "flatten_5 (Flatten)          (None, 8192)              0         \n",
      "_________________________________________________________________\n",
      "dense_11 (Dense)             (None, 256)               2097408   \n",
      "_________________________________________________________________\n",
      "dense_12 (Dense)             (None, 1)                 257       \n",
      "=================================================================\n",
      "Total params: 16,812,353\n",
      "Trainable params: 9,177,089\n",
      "Non-trainable params: 7,635,264\n",
      "_________________________________________________________________\n"
     ]
    }
   ],
   "source": [
    "model = models.Sequential()\n",
    "model.add(conv_base)\n",
    "model.add(layers.Flatten())\n",
    "model.add(layers.Dense(256, activation='relu'))\n",
    "model.add(layers.Dense(1, activation='sigmoid'))\n",
    "\n",
    "model.summary()"
   ]
  },
  {
   "cell_type": "code",
   "execution_count": 37,
   "metadata": {},
   "outputs": [],
   "source": [
    "model.compile(loss='binary_crossentropy',\n",
    "              optimizer=optimizers.RMSprop(lr=1e-5),\n",
    "              metrics=['acc'])"
   ]
  },
  {
   "cell_type": "code",
   "execution_count": 38,
   "metadata": {},
   "outputs": [
    {
     "name": "stdout",
     "output_type": "stream",
     "text": [
      "Epoch 1/100\n",
      "100/100 [==============================] - 23s 227ms/step - loss: 0.5549 - acc: 0.7190 - val_loss: 0.4306 - val_acc: 0.7900\n",
      "Epoch 2/100\n",
      "100/100 [==============================] - 20s 201ms/step - loss: 0.3822 - acc: 0.8445 - val_loss: 0.2740 - val_acc: 0.8790\n",
      "Epoch 3/100\n",
      "100/100 [==============================] - 21s 208ms/step - loss: 0.3334 - acc: 0.8510 - val_loss: 0.2287 - val_acc: 0.9080\n",
      "Epoch 4/100\n",
      "100/100 [==============================] - 20s 202ms/step - loss: 0.3001 - acc: 0.8665 - val_loss: 0.2356 - val_acc: 0.8980\n",
      "Epoch 5/100\n",
      "100/100 [==============================] - 20s 199ms/step - loss: 0.2681 - acc: 0.8855 - val_loss: 0.1979 - val_acc: 0.9080\n",
      "Epoch 6/100\n",
      "100/100 [==============================] - 20s 201ms/step - loss: 0.2576 - acc: 0.8920 - val_loss: 0.1945 - val_acc: 0.9160\n",
      "Epoch 7/100\n",
      "100/100 [==============================] - 21s 206ms/step - loss: 0.2442 - acc: 0.8980 - val_loss: 0.1907 - val_acc: 0.9210\n",
      "Epoch 8/100\n",
      "100/100 [==============================] - 21s 214ms/step - loss: 0.2326 - acc: 0.9015 - val_loss: 0.1808 - val_acc: 0.9230\n",
      "Epoch 9/100\n",
      "100/100 [==============================] - 20s 200ms/step - loss: 0.2199 - acc: 0.9075 - val_loss: 0.1722 - val_acc: 0.9240\n",
      "Epoch 10/100\n",
      "100/100 [==============================] - 20s 198ms/step - loss: 0.2193 - acc: 0.9095 - val_loss: 0.1664 - val_acc: 0.9290\n",
      "Epoch 11/100\n",
      "100/100 [==============================] - 21s 211ms/step - loss: 0.1916 - acc: 0.9200 - val_loss: 0.1666 - val_acc: 0.9300\n",
      "Epoch 12/100\n",
      "100/100 [==============================] - 20s 201ms/step - loss: 0.1811 - acc: 0.9305 - val_loss: 0.1724 - val_acc: 0.9270\n",
      "Epoch 13/100\n",
      "100/100 [==============================] - 20s 199ms/step - loss: 0.1639 - acc: 0.9315 - val_loss: 0.1914 - val_acc: 0.9280\n",
      "Epoch 14/100\n",
      "100/100 [==============================] - 20s 200ms/step - loss: 0.1743 - acc: 0.9340 - val_loss: 0.1733 - val_acc: 0.9330\n",
      "Epoch 15/100\n",
      "100/100 [==============================] - 21s 211ms/step - loss: 0.1628 - acc: 0.9290 - val_loss: 0.1653 - val_acc: 0.9340\n",
      "Epoch 16/100\n",
      "100/100 [==============================] - 20s 204ms/step - loss: 0.1598 - acc: 0.9380 - val_loss: 0.1740 - val_acc: 0.9260\n",
      "Epoch 17/100\n",
      "100/100 [==============================] - 20s 198ms/step - loss: 0.1516 - acc: 0.9370 - val_loss: 0.1622 - val_acc: 0.9380\n",
      "Epoch 18/100\n",
      "100/100 [==============================] - 20s 198ms/step - loss: 0.1470 - acc: 0.9380 - val_loss: 0.1807 - val_acc: 0.9240\n",
      "Epoch 19/100\n",
      "100/100 [==============================] - 21s 210ms/step - loss: 0.1421 - acc: 0.9440 - val_loss: 0.1699 - val_acc: 0.9340\n",
      "Epoch 20/100\n",
      "100/100 [==============================] - 20s 198ms/step - loss: 0.1249 - acc: 0.9495 - val_loss: 0.1571 - val_acc: 0.9380\n",
      "Epoch 21/100\n",
      "100/100 [==============================] - 20s 198ms/step - loss: 0.1314 - acc: 0.9435 - val_loss: 0.1579 - val_acc: 0.9360\n",
      "Epoch 22/100\n",
      "100/100 [==============================] - 20s 200ms/step - loss: 0.1330 - acc: 0.9500 - val_loss: 0.1609 - val_acc: 0.9350\n",
      "Epoch 23/100\n",
      "100/100 [==============================] - 21s 208ms/step - loss: 0.1337 - acc: 0.9460 - val_loss: 0.1604 - val_acc: 0.9340\n",
      "Epoch 24/100\n",
      "100/100 [==============================] - 21s 210ms/step - loss: 0.1288 - acc: 0.9510 - val_loss: 0.1546 - val_acc: 0.9350\n",
      "Epoch 25/100\n",
      "100/100 [==============================] - 20s 199ms/step - loss: 0.1082 - acc: 0.9590 - val_loss: 0.1622 - val_acc: 0.9330\n",
      "Epoch 26/100\n",
      "100/100 [==============================] - 20s 198ms/step - loss: 0.1013 - acc: 0.9595 - val_loss: 0.1807 - val_acc: 0.9340\n",
      "Epoch 27/100\n",
      "100/100 [==============================] - 21s 209ms/step - loss: 0.1104 - acc: 0.9555 - val_loss: 0.1666 - val_acc: 0.9350\n",
      "Epoch 28/100\n",
      "100/100 [==============================] - 20s 197ms/step - loss: 0.1092 - acc: 0.9590 - val_loss: 0.1675 - val_acc: 0.9310\n",
      "Epoch 29/100\n",
      "100/100 [==============================] - 20s 197ms/step - loss: 0.0958 - acc: 0.9625 - val_loss: 0.2367 - val_acc: 0.9190\n",
      "Epoch 30/100\n",
      "100/100 [==============================] - 20s 198ms/step - loss: 0.0974 - acc: 0.9625 - val_loss: 0.1577 - val_acc: 0.9380\n",
      "Epoch 31/100\n",
      "100/100 [==============================] - 21s 212ms/step - loss: 0.0890 - acc: 0.9635 - val_loss: 0.1555 - val_acc: 0.9350\n",
      "Epoch 32/100\n",
      "100/100 [==============================] - 20s 196ms/step - loss: 0.0934 - acc: 0.9645 - val_loss: 0.1660 - val_acc: 0.9380\n",
      "Epoch 33/100\n",
      "100/100 [==============================] - 20s 198ms/step - loss: 0.0851 - acc: 0.9670 - val_loss: 0.1892 - val_acc: 0.9320\n",
      "Epoch 34/100\n",
      "100/100 [==============================] - 20s 195ms/step - loss: 0.0852 - acc: 0.9655 - val_loss: 0.1952 - val_acc: 0.9270\n",
      "Epoch 35/100\n",
      "100/100 [==============================] - 21s 209ms/step - loss: 0.0819 - acc: 0.9670 - val_loss: 0.1836 - val_acc: 0.9350\n",
      "Epoch 36/100\n",
      "100/100 [==============================] - 20s 198ms/step - loss: 0.0908 - acc: 0.9655 - val_loss: 0.1908 - val_acc: 0.9270\n",
      "Epoch 37/100\n",
      "100/100 [==============================] - 20s 197ms/step - loss: 0.0846 - acc: 0.9715 - val_loss: 0.2402 - val_acc: 0.9220\n",
      "Epoch 38/100\n",
      "100/100 [==============================] - 20s 196ms/step - loss: 0.0646 - acc: 0.9730 - val_loss: 0.1813 - val_acc: 0.9340\n",
      "Epoch 39/100\n",
      "100/100 [==============================] - 22s 216ms/step - loss: 0.0687 - acc: 0.9770 - val_loss: 0.1754 - val_acc: 0.9440\n",
      "Epoch 40/100\n",
      "100/100 [==============================] - 20s 196ms/step - loss: 0.0693 - acc: 0.9745 - val_loss: 0.1800 - val_acc: 0.9410\n",
      "Epoch 41/100\n",
      "100/100 [==============================] - 20s 196ms/step - loss: 0.0630 - acc: 0.9775 - val_loss: 0.1686 - val_acc: 0.9380\n",
      "Epoch 42/100\n",
      "100/100 [==============================] - 20s 197ms/step - loss: 0.0766 - acc: 0.9730 - val_loss: 0.1691 - val_acc: 0.9300\n",
      "Epoch 43/100\n",
      "100/100 [==============================] - 21s 213ms/step - loss: 0.0642 - acc: 0.9775 - val_loss: 0.1971 - val_acc: 0.9330\n",
      "Epoch 44/100\n",
      "100/100 [==============================] - 20s 197ms/step - loss: 0.0510 - acc: 0.9805 - val_loss: 0.1904 - val_acc: 0.9390\n",
      "Epoch 45/100\n",
      "100/100 [==============================] - 20s 199ms/step - loss: 0.0580 - acc: 0.9770 - val_loss: 0.2134 - val_acc: 0.9280\n",
      "Epoch 46/100\n",
      "100/100 [==============================] - 20s 204ms/step - loss: 0.0564 - acc: 0.9795 - val_loss: 0.2331 - val_acc: 0.9290\n",
      "Epoch 47/100\n",
      "100/100 [==============================] - 21s 208ms/step - loss: 0.0654 - acc: 0.9765 - val_loss: 0.2055 - val_acc: 0.9350\n",
      "Epoch 48/100\n",
      "100/100 [==============================] - 20s 196ms/step - loss: 0.0621 - acc: 0.9750 - val_loss: 0.1858 - val_acc: 0.9400\n",
      "Epoch 49/100\n",
      "100/100 [==============================] - 20s 197ms/step - loss: 0.0739 - acc: 0.9700 - val_loss: 0.1770 - val_acc: 0.9380\n",
      "Epoch 50/100\n",
      "100/100 [==============================] - 20s 196ms/step - loss: 0.0514 - acc: 0.9820 - val_loss: 0.1970 - val_acc: 0.9350\n",
      "Epoch 51/100\n",
      "100/100 [==============================] - 21s 208ms/step - loss: 0.0668 - acc: 0.9735 - val_loss: 0.1958 - val_acc: 0.9310\n",
      "Epoch 52/100\n",
      "100/100 [==============================] - 20s 199ms/step - loss: 0.0523 - acc: 0.9805 - val_loss: 0.1904 - val_acc: 0.9360\n",
      "Epoch 53/100\n",
      "100/100 [==============================] - 20s 197ms/step - loss: 0.0666 - acc: 0.9750 - val_loss: 0.1968 - val_acc: 0.9320\n",
      "Epoch 54/100\n",
      "100/100 [==============================] - 20s 204ms/step - loss: 0.0574 - acc: 0.9805 - val_loss: 0.2161 - val_acc: 0.9370\n",
      "Epoch 55/100\n",
      "100/100 [==============================] - 21s 215ms/step - loss: 0.0486 - acc: 0.9800 - val_loss: 0.2229 - val_acc: 0.9330\n",
      "Epoch 56/100\n",
      "100/100 [==============================] - 20s 196ms/step - loss: 0.0597 - acc: 0.9790 - val_loss: 0.1858 - val_acc: 0.9380\n",
      "Epoch 57/100\n",
      "100/100 [==============================] - 20s 199ms/step - loss: 0.0484 - acc: 0.9805 - val_loss: 0.1909 - val_acc: 0.9340\n",
      "Epoch 58/100\n",
      "100/100 [==============================] - 20s 198ms/step - loss: 0.0406 - acc: 0.9855 - val_loss: 0.2251 - val_acc: 0.9340\n",
      "Epoch 59/100\n",
      "100/100 [==============================] - 21s 209ms/step - loss: 0.0446 - acc: 0.9845 - val_loss: 0.2119 - val_acc: 0.9350\n",
      "Epoch 60/100\n",
      "100/100 [==============================] - 20s 200ms/step - loss: 0.0501 - acc: 0.9815 - val_loss: 0.2446 - val_acc: 0.9310\n"
     ]
    },
    {
     "name": "stdout",
     "output_type": "stream",
     "text": [
      "Epoch 61/100\n",
      "100/100 [==============================] - 21s 207ms/step - loss: 0.0436 - acc: 0.9865 - val_loss: 0.2122 - val_acc: 0.9340\n",
      "Epoch 62/100\n",
      "100/100 [==============================] - 20s 197ms/step - loss: 0.0374 - acc: 0.9895 - val_loss: 0.2891 - val_acc: 0.9270\n",
      "Epoch 63/100\n",
      "100/100 [==============================] - 21s 209ms/step - loss: 0.0504 - acc: 0.9800 - val_loss: 0.1801 - val_acc: 0.9410\n",
      "Epoch 64/100\n",
      "100/100 [==============================] - 20s 197ms/step - loss: 0.0497 - acc: 0.9855 - val_loss: 0.1946 - val_acc: 0.9410\n",
      "Epoch 65/100\n",
      "100/100 [==============================] - 20s 197ms/step - loss: 0.0385 - acc: 0.9855 - val_loss: 0.2122 - val_acc: 0.9440\n",
      "Epoch 66/100\n",
      "100/100 [==============================] - 20s 197ms/step - loss: 0.0431 - acc: 0.9860 - val_loss: 0.2381 - val_acc: 0.9250\n",
      "Epoch 67/100\n",
      "100/100 [==============================] - 21s 208ms/step - loss: 0.0348 - acc: 0.9860 - val_loss: 0.2084 - val_acc: 0.9410\n",
      "Epoch 68/100\n",
      "100/100 [==============================] - 20s 199ms/step - loss: 0.0404 - acc: 0.9885 - val_loss: 0.2841 - val_acc: 0.9300\n",
      "Epoch 69/100\n",
      "100/100 [==============================] - 20s 199ms/step - loss: 0.0332 - acc: 0.9875 - val_loss: 0.2705 - val_acc: 0.9310\n",
      "Epoch 70/100\n",
      "100/100 [==============================] - 21s 211ms/step - loss: 0.0430 - acc: 0.9850 - val_loss: 0.2980 - val_acc: 0.9210\n",
      "Epoch 71/100\n",
      "100/100 [==============================] - 21s 209ms/step - loss: 0.0363 - acc: 0.9885 - val_loss: 0.2489 - val_acc: 0.9340\n",
      "Epoch 72/100\n",
      "100/100 [==============================] - 20s 198ms/step - loss: 0.0312 - acc: 0.9870 - val_loss: 0.2165 - val_acc: 0.9400\n",
      "Epoch 73/100\n",
      "100/100 [==============================] - 20s 198ms/step - loss: 0.0357 - acc: 0.9855 - val_loss: 0.2078 - val_acc: 0.9390\n",
      "Epoch 74/100\n",
      "100/100 [==============================] - 20s 197ms/step - loss: 0.0382 - acc: 0.9885 - val_loss: 0.2298 - val_acc: 0.9340\n",
      "Epoch 75/100\n",
      "100/100 [==============================] - 21s 209ms/step - loss: 0.0332 - acc: 0.9890 - val_loss: 0.2740 - val_acc: 0.9320\n",
      "Epoch 76/100\n",
      "100/100 [==============================] - 20s 200ms/step - loss: 0.0336 - acc: 0.9890 - val_loss: 0.2127 - val_acc: 0.9390\n",
      "Epoch 77/100\n",
      "100/100 [==============================] - 20s 199ms/step - loss: 0.0294 - acc: 0.9895 - val_loss: 0.2277 - val_acc: 0.9390\n",
      "Epoch 78/100\n",
      "100/100 [==============================] - 20s 198ms/step - loss: 0.0325 - acc: 0.9880 - val_loss: 0.1916 - val_acc: 0.9370\n",
      "Epoch 79/100\n",
      "100/100 [==============================] - 21s 210ms/step - loss: 0.0358 - acc: 0.9870 - val_loss: 0.2084 - val_acc: 0.9420\n",
      "Epoch 80/100\n",
      "100/100 [==============================] - 20s 197ms/step - loss: 0.0350 - acc: 0.9870 - val_loss: 0.2621 - val_acc: 0.9350\n",
      "Epoch 81/100\n",
      "100/100 [==============================] - 20s 196ms/step - loss: 0.0260 - acc: 0.9925 - val_loss: 0.2534 - val_acc: 0.9320\n",
      "Epoch 82/100\n",
      "100/100 [==============================] - 20s 196ms/step - loss: 0.0230 - acc: 0.9895 - val_loss: 0.2287 - val_acc: 0.9440\n",
      "Epoch 83/100\n",
      "100/100 [==============================] - 21s 209ms/step - loss: 0.0299 - acc: 0.9895 - val_loss: 0.2597 - val_acc: 0.9370\n",
      "Epoch 84/100\n",
      "100/100 [==============================] - 20s 199ms/step - loss: 0.0288 - acc: 0.9925 - val_loss: 0.2203 - val_acc: 0.9410\n",
      "Epoch 85/100\n",
      "100/100 [==============================] - 21s 209ms/step - loss: 0.0285 - acc: 0.9890 - val_loss: 0.2397 - val_acc: 0.9440\n",
      "Epoch 86/100\n",
      "100/100 [==============================] - 20s 197ms/step - loss: 0.0246 - acc: 0.9905 - val_loss: 0.3627 - val_acc: 0.9230\n",
      "Epoch 87/100\n",
      "100/100 [==============================] - 21s 209ms/step - loss: 0.0302 - acc: 0.9890 - val_loss: 0.2657 - val_acc: 0.9330\n",
      "Epoch 88/100\n",
      "100/100 [==============================] - 20s 196ms/step - loss: 0.0153 - acc: 0.9960 - val_loss: 0.2935 - val_acc: 0.9330\n",
      "Epoch 89/100\n",
      "100/100 [==============================] - 19s 195ms/step - loss: 0.0182 - acc: 0.9925 - val_loss: 0.2517 - val_acc: 0.9410\n",
      "Epoch 90/100\n",
      "100/100 [==============================] - 20s 197ms/step - loss: 0.0254 - acc: 0.9925 - val_loss: 0.2483 - val_acc: 0.9380\n",
      "Epoch 91/100\n",
      "100/100 [==============================] - 21s 206ms/step - loss: 0.0203 - acc: 0.9925 - val_loss: 0.2344 - val_acc: 0.9400\n",
      "Epoch 92/100\n",
      "100/100 [==============================] - 20s 204ms/step - loss: 0.0224 - acc: 0.9905 - val_loss: 0.2527 - val_acc: 0.9380\n",
      "Epoch 93/100\n",
      "100/100 [==============================] - 20s 198ms/step - loss: 0.0372 - acc: 0.9870 - val_loss: 0.2453 - val_acc: 0.9390\n",
      "Epoch 94/100\n",
      "100/100 [==============================] - 20s 196ms/step - loss: 0.0337 - acc: 0.9905 - val_loss: 0.2431 - val_acc: 0.9370\n",
      "Epoch 95/100\n",
      "100/100 [==============================] - 21s 208ms/step - loss: 0.0276 - acc: 0.9915 - val_loss: 0.3227 - val_acc: 0.9310\n",
      "Epoch 96/100\n",
      "100/100 [==============================] - 20s 198ms/step - loss: 0.0239 - acc: 0.9940 - val_loss: 0.2698 - val_acc: 0.9340\n",
      "Epoch 97/100\n",
      "100/100 [==============================] - 20s 195ms/step - loss: 0.0197 - acc: 0.9925 - val_loss: 0.2490 - val_acc: 0.9350\n",
      "Epoch 98/100\n",
      "100/100 [==============================] - 20s 196ms/step - loss: 0.0281 - acc: 0.9915 - val_loss: 0.2219 - val_acc: 0.9410\n",
      "Epoch 99/100\n",
      "100/100 [==============================] - 21s 208ms/step - loss: 0.0225 - acc: 0.9910 - val_loss: 0.2333 - val_acc: 0.9360\n",
      "Epoch 100/100\n",
      "100/100 [==============================] - 20s 200ms/step - loss: 0.0259 - acc: 0.9895 - val_loss: 0.2709 - val_acc: 0.9300\n"
     ]
    }
   ],
   "source": [
    "history = model.fit_generator(\n",
    "    train_generator,\n",
    "    steps_per_epoch=100,\n",
    "    epochs=100,\n",
    "    validation_data=valid_generator,\n",
    "    validation_steps=50)"
   ]
  },
  {
   "cell_type": "code",
   "execution_count": 39,
   "metadata": {},
   "outputs": [
    {
     "data": {
      "image/png": "[encoded data removed]",
      "text/plain": [
       "<Figure size 432x288 with 1 Axes>"
      ]
     },
     "metadata": {
      "needs_background": "light"
     },
     "output_type": "display_data"
    },
    {
     "data": {
      "image/png": "[encoded data removed]",
      "text/plain": [
       "<Figure size 432x288 with 1 Axes>"
      ]
     },
     "metadata": {
      "needs_background": "light"
     },
     "output_type": "display_data"
    }
   ],
   "source": [
    "acc = history.history['acc']\n",
    "val_acc = history.history['val_acc']\n",
    "loss = history.history['loss']\n",
    "val_loss = history.history['val_loss']\n",
    "\n",
    "epochs = range(1, len(acc) + 1)\n",
    "\n",
    "plt.plot(epochs, acc, 'bo', label='Training acc')\n",
    "plt.plot(epochs, val_acc, 'b', label='Validation acc')\n",
    "plt.title('Training and validation accuracy')\n",
    "plt.legend()\n",
    "\n",
    "plt.figure()\n",
    "\n",
    "plt.plot(epochs, loss, 'bo', label='Training loss')\n",
    "plt.plot(epochs, val_loss, 'b', label='Validation loss')\n",
    "plt.title('Training and validation loss')\n",
    "plt.legend()\n",
    "\n",
    "plt.show()"
   ]
  },
  {
   "cell_type": "code",
   "execution_count": 41,
   "metadata": {},
   "outputs": [
    {
     "name": "stdout",
     "output_type": "stream",
     "text": [
      "Found 1000 images belonging to 2 classes.\n"
     ]
    }
   ],
   "source": [
    "train_dir = os.path.join(base_dir, 'train')\n",
    "test_generator = valid_datagen.flow_from_directory(\n",
    "    test_dir,\n",
    "    target_size=(150, 150),\n",
    "    batch_size=20,\n",
    "    class_mode='binary')\n",
    "\n",
    "test_loss, test_acc = model.evaluate_generator(test_generator, steps=50)"
   ]
  },
  {
   "cell_type": "code",
   "execution_count": 42,
   "metadata": {},
   "outputs": [
    {
     "data": {
      "text/plain": [
       "0.9349999916553497"
      ]
     },
     "execution_count": 42,
     "metadata": {},
     "output_type": "execute_result"
    }
   ],
   "source": [
    "test_acc"
   ]
  },
  {
   "cell_type": "code",
   "execution_count": null,
   "metadata": {},
   "outputs": [],
   "source": []
  }
 ],
 "metadata": {
  "kernelspec": {
   "display_name": "Python 3",
   "language": "python",
   "name": "python3"
  },
  "language_info": {
   "codemirror_mode": {
    "name": "ipython",
    "version": 3
   },
   "file_extension": ".py",
   "mimetype": "text/x-python",
   "name": "python",
   "nbconvert_exporter": "python",
   "pygments_lexer": "ipython3",
   "version": "3.6.7"
  }
 },
 "nbformat": 4,
 "nbformat_minor": 2
}
