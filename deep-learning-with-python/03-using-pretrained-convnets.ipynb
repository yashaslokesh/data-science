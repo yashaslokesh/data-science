{
 "cells": [
  {
   "cell_type": "markdown",
   "metadata": {},
   "source": [
    "# Using pre-trained convnets\n",
    "We can use the convolutional bases of models pre-trained on the ImageNet databases. Using part of or all of the convolutional base of another model is practicing **feature extraction**. We can later use **fine-tuning** to further improve the model."
   ]
  },
  {
   "cell_type": "code",
   "execution_count": 1,
   "metadata": {},
   "outputs": [],
   "source": [
    "import os\n",
    "os.environ['MKL_THREADING_LAYER'] = 'GNU'\n",
    "os.environ['KERAS_BACKEND'] = 'tensorflow'"
   ]
  },
  {
   "cell_type": "code",
   "execution_count": 2,
   "metadata": {},
   "outputs": [
    {
     "name": "stderr",
     "output_type": "stream",
     "text": [
      "Using TensorFlow backend.\n"
     ]
    }
   ],
   "source": [
    "from keras.applications import VGG16\n",
    "\n",
    "conv_base = VGG16(include_top=False,\n",
    "                  weights='imagenet',\n",
    "                  input_shape=(150, 150, 3))"
   ]
  },
  {
   "cell_type": "code",
   "execution_count": 3,
   "metadata": {},
   "outputs": [
    {
     "name": "stdout",
     "output_type": "stream",
     "text": [
      "_________________________________________________________________\n",
      "Layer (type)                 Output Shape              Param #   \n",
      "=================================================================\n",
      "input_1 (InputLayer)         (None, 150, 150, 3)       0         \n",
      "_________________________________________________________________\n",
      "block1_conv1 (Conv2D)        (None, 150, 150, 64)      1792      \n",
      "_________________________________________________________________\n",
      "block1_conv2 (Conv2D)        (None, 150, 150, 64)      36928     \n",
      "_________________________________________________________________\n",
      "block1_pool (MaxPooling2D)   (None, 75, 75, 64)        0         \n",
      "_________________________________________________________________\n",
      "block2_conv1 (Conv2D)        (None, 75, 75, 128)       73856     \n",
      "_________________________________________________________________\n",
      "block2_conv2 (Conv2D)        (None, 75, 75, 128)       147584    \n",
      "_________________________________________________________________\n",
      "block2_pool (MaxPooling2D)   (None, 37, 37, 128)       0         \n",
      "_________________________________________________________________\n",
      "block3_conv1 (Conv2D)        (None, 37, 37, 256)       295168    \n",
      "_________________________________________________________________\n",
      "block3_conv2 (Conv2D)        (None, 37, 37, 256)       590080    \n",
      "_________________________________________________________________\n",
      "block3_conv3 (Conv2D)        (None, 37, 37, 256)       590080    \n",
      "_________________________________________________________________\n",
      "block3_pool (MaxPooling2D)   (None, 18, 18, 256)       0         \n",
      "_________________________________________________________________\n",
      "block4_conv1 (Conv2D)        (None, 18, 18, 512)       1180160   \n",
      "_________________________________________________________________\n",
      "block4_conv2 (Conv2D)        (None, 18, 18, 512)       2359808   \n",
      "_________________________________________________________________\n",
      "block4_conv3 (Conv2D)        (None, 18, 18, 512)       2359808   \n",
      "_________________________________________________________________\n",
      "block4_pool (MaxPooling2D)   (None, 9, 9, 512)         0         \n",
      "_________________________________________________________________\n",
      "block5_conv1 (Conv2D)        (None, 9, 9, 512)         2359808   \n",
      "_________________________________________________________________\n",
      "block5_conv2 (Conv2D)        (None, 9, 9, 512)         2359808   \n",
      "_________________________________________________________________\n",
      "block5_conv3 (Conv2D)        (None, 9, 9, 512)         2359808   \n",
      "_________________________________________________________________\n",
      "block5_pool (MaxPooling2D)   (None, 4, 4, 512)         0         \n",
      "=================================================================\n",
      "Total params: 14,714,688\n",
      "Trainable params: 14,714,688\n",
      "Non-trainable params: 0\n",
      "_________________________________________________________________\n"
     ]
    }
   ],
   "source": [
    "conv_base.summary()"
   ]
  },
  {
   "cell_type": "markdown",
   "metadata": {},
   "source": [
    "This is the pre-trained convolutional base from a **VGG16** architecture model. This convolutional base learns abstract spatial patterns in the input data. Now, we want to classify whether the output is a **cat or dog**, so we can add a densely-connected classifier at the end. \n",
    "\n",
    "We have two options: process the output of the convolutional base independently in a classifier, or connect the classifier to the convolutional base. The first option will not allow us to use **data augmentation** because an input image will only be run through the model once, but we have less computations. The second option allows us to use **data augmentation**, but will be more expensive since an image will be run through the base every time the model receives it as input."
   ]
  },
  {
   "cell_type": "markdown",
   "metadata": {},
   "source": [
    "# Fast image classification"
   ]
  },
  {
   "cell_type": "code",
   "execution_count": 4,
   "metadata": {},
   "outputs": [],
   "source": [
    "import os\n",
    "import numpy as np\n",
    "from keras.preprocessing.image import ImageDataGenerator"
   ]
  },
  {
   "cell_type": "code",
   "execution_count": 5,
   "metadata": {},
   "outputs": [
    {
     "data": {
      "text/plain": [
       "['kaggle-dogs-cats-data',\n",
       " 'kaggle-histopathologic-cancer-detection',\n",
       " 'dogs-and-cats-small',\n",
       " 'README.md']"
      ]
     },
     "execution_count": 5,
     "metadata": {},
     "output_type": "execute_result"
    }
   ],
   "source": [
    "os.listdir('../data')"
   ]
  },
  {
   "cell_type": "code",
   "execution_count": 6,
   "metadata": {},
   "outputs": [
    {
     "data": {
      "text/plain": [
       "['test', 'train', 'validation']"
      ]
     },
     "execution_count": 6,
     "metadata": {},
     "output_type": "execute_result"
    }
   ],
   "source": [
    "os.listdir('../data/dogs-and-cats-small')"
   ]
  },
  {
   "cell_type": "code",
   "execution_count": 7,
   "metadata": {},
   "outputs": [],
   "source": [
    "base_dir = '../data/dogs-and-cats-small'\n",
    "train_dir = os.path.join(base_dir, 'train')\n",
    "valid_dir = os.path.join(base_dir, 'validation')\n",
    "test_dir = os.path.join(base_dir, 'test')\n",
    "\n",
    "datagen = ImageDataGenerator(rescale=1./255)\n",
    "batch_size = 20"
   ]
  },
  {
   "cell_type": "markdown",
   "metadata": {},
   "source": [
    "We'll make a function here that will extract the feature map from the trained convolutional base above. The feature map will be put in a numpy array to be plugged into a classifier"
   ]
  },
  {
   "cell_type": "code",
   "execution_count": 8,
   "metadata": {},
   "outputs": [],
   "source": [
    "def extract_features(directory, sample_count):\n",
    "    # (4, 4, 512) because that's the output shape of the conv. base above\n",
    "    features = np.zeros(shape=(sample_count, 4, 4, 512))\n",
    "    labels = np.zeros(shape=(sample_count))\n",
    "    \n",
    "    generator = datagen.flow_from_directory(\n",
    "        directory,\n",
    "        # Target size is (150, 150) just like our convnet trained from scratch before\n",
    "        target_size=(150, 150),\n",
    "        batch_size=batch_size,\n",
    "        class_mode='binary')\n",
    "    \n",
    "    i = 0\n",
    "    for inputs_batch, labels_batch in generator:\n",
    "        # Generates feature maps for first batch of 20 images from the directory parameter\n",
    "        features_batch = conv_base.predict(inputs_batch)\n",
    "        # Place the predicted feature maps and labels for the batch into the corresponding numpy arrays, in 20 spaces\n",
    "        features[i * batch_size : (i + 1) * batch_size] = features_batch\n",
    "        labels[i * batch_size : (i + 1) * batch_size] = labels_batch\n",
    "        \n",
    "        i += 1\n",
    "        # If we've seen all images once, then break\n",
    "        # 'i' is incremented by one each loop and each loop has a batch size of 20 images, as set before,\n",
    "        # so if 'i * 20' is greater than the desired sample size of images, we exit the loop\n",
    "        if i * batch_size >= sample_count:\n",
    "            break\n",
    "            \n",
    "    # Returns the numpy arrays of feature maps and corresponding labels\n",
    "    return features, labels"
   ]
  },
  {
   "cell_type": "code",
   "execution_count": 9,
   "metadata": {},
   "outputs": [
    {
     "name": "stdout",
     "output_type": "stream",
     "text": [
      "Found 2000 images belonging to 2 classes.\n",
      "Found 1000 images belonging to 2 classes.\n",
      "Found 1000 images belonging to 2 classes.\n"
     ]
    }
   ],
   "source": [
    "\"\"\"The features are all of shape (sample_count, 4, 4, 512) because they came\n",
    "straight from the conv. base's prediction. The densely connected classifier only uses\n",
    "flattened data, so we can flatten the data before putting them in a classifier\n",
    "\"\"\"\n",
    "train_features, train_labels = extract_features(train_dir, 2000)\n",
    "valid_features, valid_labels = extract_features(valid_dir, 1000)\n",
    "test_features, test_labels = extract_features(test_dir, 1000)"
   ]
  },
  {
   "cell_type": "code",
   "execution_count": 10,
   "metadata": {},
   "outputs": [],
   "source": [
    "# Here, we flatten the numpy arrays for densely-connected classification\n",
    "train_features = np.reshape(train_features, (2000, 4 * 4 * 512))\n",
    "valid_features = np.reshape(valid_features, (1000, 4 * 4 * 512))\n",
    "test_features = np.reshape(test_features, (1000, 4 * 4 * 512))"
   ]
  },
  {
   "cell_type": "code",
   "execution_count": 11,
   "metadata": {},
   "outputs": [],
   "source": [
    "# Now we create the densly connected classifier\n",
    "from keras import models\n",
    "from keras import layers\n",
    "from keras import optimizers\n",
    "\n",
    "model = models.Sequential()\n",
    "model.add(layers.Dense(256, activation='relu', input_dim=4 * 4 * 512))\n",
    "model.add(layers.Dropout(0.5))\n",
    "model.add(layers.Dense(1, activation='sigmoid'))\n",
    "\n",
    "model.compile(optimizer=optimizers.RMSprop(lr=2e-5),\n",
    "              loss='binary_crossentropy',\n",
    "              metrics=['acc'])"
   ]
  },
  {
   "cell_type": "code",
   "execution_count": 12,
   "metadata": {},
   "outputs": [
    {
     "name": "stdout",
     "output_type": "stream",
     "text": [
      "Train on 2000 samples, validate on 1000 samples\n",
      "Epoch 1/30\n",
      "2000/2000 [==============================] - 4s 2ms/step - loss: 0.6119 - acc: 0.6610 - val_loss: 0.4486 - val_acc: 0.8240\n",
      "Epoch 2/30\n",
      "2000/2000 [==============================] - 0s 243us/step - loss: 0.4253 - acc: 0.8105 - val_loss: 0.3645 - val_acc: 0.8590\n",
      "Epoch 3/30\n",
      "2000/2000 [==============================] - 0s 240us/step - loss: 0.3469 - acc: 0.8580 - val_loss: 0.3236 - val_acc: 0.8750\n",
      "Epoch 4/30\n",
      "2000/2000 [==============================] - 0s 243us/step - loss: 0.3087 - acc: 0.8710 - val_loss: 0.3063 - val_acc: 0.8730\n",
      "Epoch 5/30\n",
      "2000/2000 [==============================] - 0s 244us/step - loss: 0.2789 - acc: 0.8825 - val_loss: 0.2838 - val_acc: 0.8870\n",
      "Epoch 6/30\n",
      "2000/2000 [==============================] - 0s 244us/step - loss: 0.2581 - acc: 0.8995 - val_loss: 0.2757 - val_acc: 0.8900\n",
      "Epoch 7/30\n",
      "2000/2000 [==============================] - 0s 247us/step - loss: 0.2413 - acc: 0.9040 - val_loss: 0.2655 - val_acc: 0.9000\n",
      "Epoch 8/30\n",
      "2000/2000 [==============================] - 0s 245us/step - loss: 0.2267 - acc: 0.9145 - val_loss: 0.2683 - val_acc: 0.8890\n",
      "Epoch 9/30\n",
      "2000/2000 [==============================] - 0s 245us/step - loss: 0.2208 - acc: 0.9195 - val_loss: 0.2610 - val_acc: 0.8920\n",
      "Epoch 10/30\n",
      "2000/2000 [==============================] - 0s 245us/step - loss: 0.1993 - acc: 0.9270 - val_loss: 0.2514 - val_acc: 0.9020\n",
      "Epoch 11/30\n",
      "2000/2000 [==============================] - 0s 243us/step - loss: 0.1915 - acc: 0.9285 - val_loss: 0.2514 - val_acc: 0.8980\n",
      "Epoch 12/30\n",
      "2000/2000 [==============================] - 0s 242us/step - loss: 0.1901 - acc: 0.9325 - val_loss: 0.2475 - val_acc: 0.9010\n",
      "Epoch 13/30\n",
      "2000/2000 [==============================] - 0s 241us/step - loss: 0.1741 - acc: 0.9325 - val_loss: 0.2492 - val_acc: 0.8990\n",
      "Epoch 14/30\n",
      "2000/2000 [==============================] - 0s 239us/step - loss: 0.1647 - acc: 0.9395 - val_loss: 0.2430 - val_acc: 0.9050\n",
      "Epoch 15/30\n",
      "2000/2000 [==============================] - 0s 241us/step - loss: 0.1581 - acc: 0.9430 - val_loss: 0.2459 - val_acc: 0.9070\n",
      "Epoch 16/30\n",
      "2000/2000 [==============================] - 0s 241us/step - loss: 0.1552 - acc: 0.9475 - val_loss: 0.2415 - val_acc: 0.9020\n",
      "Epoch 17/30\n",
      "2000/2000 [==============================] - 0s 243us/step - loss: 0.1499 - acc: 0.9475 - val_loss: 0.2435 - val_acc: 0.9060\n",
      "Epoch 18/30\n",
      "2000/2000 [==============================] - 0s 244us/step - loss: 0.1350 - acc: 0.9525 - val_loss: 0.2485 - val_acc: 0.9000\n",
      "Epoch 19/30\n",
      "2000/2000 [==============================] - 0s 246us/step - loss: 0.1365 - acc: 0.9570 - val_loss: 0.2458 - val_acc: 0.9030\n",
      "Epoch 20/30\n",
      "2000/2000 [==============================] - 0s 240us/step - loss: 0.1279 - acc: 0.9560 - val_loss: 0.2393 - val_acc: 0.9060\n",
      "Epoch 21/30\n",
      "2000/2000 [==============================] - 0s 243us/step - loss: 0.1168 - acc: 0.9640 - val_loss: 0.2431 - val_acc: 0.9060\n",
      "Epoch 22/30\n",
      "2000/2000 [==============================] - 0s 242us/step - loss: 0.1146 - acc: 0.9645 - val_loss: 0.2465 - val_acc: 0.9010\n",
      "Epoch 23/30\n",
      "2000/2000 [==============================] - 0s 241us/step - loss: 0.1178 - acc: 0.9620 - val_loss: 0.2460 - val_acc: 0.9020\n",
      "Epoch 24/30\n",
      "2000/2000 [==============================] - 0s 239us/step - loss: 0.1072 - acc: 0.9655 - val_loss: 0.2480 - val_acc: 0.9010\n",
      "Epoch 25/30\n",
      "2000/2000 [==============================] - 0s 236us/step - loss: 0.1025 - acc: 0.9645 - val_loss: 0.2407 - val_acc: 0.9030\n",
      "Epoch 26/30\n",
      "2000/2000 [==============================] - 0s 231us/step - loss: 0.1017 - acc: 0.9695 - val_loss: 0.2385 - val_acc: 0.9060\n",
      "Epoch 27/30\n",
      "2000/2000 [==============================] - 0s 240us/step - loss: 0.0971 - acc: 0.9680 - val_loss: 0.2411 - val_acc: 0.9040\n",
      "Epoch 28/30\n",
      "2000/2000 [==============================] - 0s 239us/step - loss: 0.0919 - acc: 0.9685 - val_loss: 0.2422 - val_acc: 0.9030\n",
      "Epoch 29/30\n",
      "2000/2000 [==============================] - 0s 245us/step - loss: 0.0871 - acc: 0.9745 - val_loss: 0.2419 - val_acc: 0.9020\n",
      "Epoch 30/30\n",
      "2000/2000 [==============================] - 0s 244us/step - loss: 0.0822 - acc: 0.9790 - val_loss: 0.2414 - val_acc: 0.9030\n"
     ]
    }
   ],
   "source": [
    "history = model.fit(train_features, train_labels,\n",
    "                    epochs=30,\n",
    "                    batch_size=20,\n",
    "                    validation_data=(valid_features, valid_labels))"
   ]
  },
  {
   "cell_type": "code",
   "execution_count": 13,
   "metadata": {},
   "outputs": [
    {
     "data": {
      "text/plain": [
       "<Figure size 640x480 with 1 Axes>"
      ]
     },
     "metadata": {},
     "output_type": "display_data"
    },
    {
     "data": {
      "text/plain": [
       "<Figure size 640x480 with 1 Axes>"
      ]
     },
     "metadata": {},
     "output_type": "display_data"
    }
   ],
   "source": [
    "import matplotlib.pyplot as plt\n",
    "\n",
    "acc = history.history['acc']\n",
    "val_acc = history.history['val_acc']\n",
    "loss = history.history['loss']\n",
    "val_loss = history.history['val_loss']\n",
    "\n",
    "epochs = range(1, len(acc) + 1)\n",
    "\n",
    "plt.plot(epochs, acc, 'bo', label='Training acc')\n",
    "plt.plot(epochs, val_acc, 'b', label='Validation acc')\n",
    "plt.title('Training and validation accuracy')\n",
    "plt.legend()\n",
    "\n",
    "plt.figure()\n",
    "\n",
    "plt.plot(epochs, loss, 'bo', label='Training loss')\n",
    "plt.plot(epochs, val_loss, 'b', label='Validation loss')\n",
    "plt.title('Training and validation loss')\n",
    "plt.legend()\n",
    "\n",
    "plt.show()"
   ]
  },
  {
   "cell_type": "markdown",
   "metadata": {},
   "source": [
    "The validation loss is not decreasing, our network is just remembering the data exactly as we input it, and not the patterns in the data. We need to use **data augmentation** since we have a small dataset. This will take much more time, but we should get better results."
   ]
  },
  {
   "cell_type": "code",
   "execution_count": 14,
   "metadata": {},
   "outputs": [
    {
     "name": "stdout",
     "output_type": "stream",
     "text": [
      "_________________________________________________________________\n",
      "Layer (type)                 Output Shape              Param #   \n",
      "=================================================================\n",
      "vgg16 (Model)                (None, 4, 4, 512)         14714688  \n",
      "_________________________________________________________________\n",
      "flatten_1 (Flatten)          (None, 8192)              0         \n",
      "_________________________________________________________________\n",
      "dense_3 (Dense)              (None, 256)               2097408   \n",
      "_________________________________________________________________\n",
      "dense_4 (Dense)              (None, 1)                 257       \n",
      "=================================================================\n",
      "Total params: 16,812,353\n",
      "Trainable params: 16,812,353\n",
      "Non-trainable params: 0\n",
      "_________________________________________________________________\n"
     ]
    }
   ],
   "source": [
    "from keras import models\n",
    "from keras import layers\n",
    "\n",
    "model = models.Sequential()\n",
    "model.add(conv_base)\n",
    "model.add(layers.Flatten())\n",
    "model.add(layers.Dense(256, activation='relu'))\n",
    "model.add(layers.Dense(1, activation='sigmoid'))\n",
    "\n",
    "model.summary()"
   ]
  },
  {
   "cell_type": "markdown",
   "metadata": {},
   "source": [
    "We now have to freeze the convolutional base so that its weights are not affected. The weights were already set when the VGG16 architecture model was trained on ImageNet, and we don't want to mess those weights up because of the initial inaccuracy of the densely-connected classifier we're putting on top of the base."
   ]
  },
  {
   "cell_type": "code",
   "execution_count": 15,
   "metadata": {},
   "outputs": [
    {
     "name": "stdout",
     "output_type": "stream",
     "text": [
      "This is the number of trainable weights before freezing the conv base: 30\n",
      "This is the number of trainable weights after freezing the conv base: 4\n"
     ]
    }
   ],
   "source": [
    "print('This is the number of trainable weights before freezing the conv base:', len(model.trainable_weights))\n",
    "conv_base.trainable = False\n",
    "print('This is the number of trainable weights after freezing the conv base:', len(model.trainable_weights))"
   ]
  },
  {
   "cell_type": "code",
   "execution_count": 16,
   "metadata": {},
   "outputs": [
    {
     "name": "stdout",
     "output_type": "stream",
     "text": [
      "Found 2000 images belonging to 2 classes.\n",
      "Found 1000 images belonging to 2 classes.\n"
     ]
    }
   ],
   "source": [
    "from keras.preprocessing.image import ImageDataGenerator\n",
    "from keras import optimizers\n",
    "\n",
    "# This is the data augmentation part, remixing data to create new artificial data\n",
    "train_datagen = ImageDataGenerator(\n",
    "      rescale=1./255,\n",
    "      rotation_range=40,\n",
    "      width_shift_range=0.2,\n",
    "      height_shift_range=0.2,\n",
    "      shear_range=0.2,\n",
    "      zoom_range=0.2,\n",
    "      horizontal_flip=True,\n",
    "      fill_mode='nearest')\n",
    "\n",
    "valid_datagen = ImageDataGenerator(rescale=1./255)\n",
    "\n",
    "train_generator = train_datagen.flow_from_directory(\n",
    "    train_dir,\n",
    "    target_size=(150, 150),\n",
    "    batch_size=20,\n",
    "    class_mode='binary')\n",
    "\n",
    "valid_generator = valid_datagen.flow_from_directory(\n",
    "    valid_dir,\n",
    "    target_size=(150, 150),\n",
    "    batch_size=20,\n",
    "    class_mode='binary')\n",
    "\n",
    "model.compile(loss='binary_crossentropy',\n",
    "              optimizer=optimizers.RMSprop(lr=2e-5),\n",
    "              metrics=['acc'])"
   ]
  },
  {
   "cell_type": "code",
   "execution_count": 17,
   "metadata": {},
   "outputs": [
    {
     "name": "stdout",
     "output_type": "stream",
     "text": [
      "Epoch 1/30\n",
      "100/100 [==============================] - 23s 234ms/step - loss: 0.6076 - acc: 0.6830 - val_loss: 0.4669 - val_acc: 0.8050\n",
      "Epoch 2/30\n",
      "100/100 [==============================] - 20s 200ms/step - loss: 0.4941 - acc: 0.7850 - val_loss: 0.3927 - val_acc: 0.8360\n",
      "Epoch 3/30\n",
      "100/100 [==============================] - 20s 196ms/step - loss: 0.4399 - acc: 0.7990 - val_loss: 0.3372 - val_acc: 0.8680\n",
      "Epoch 4/30\n",
      "100/100 [==============================] - 20s 198ms/step - loss: 0.4054 - acc: 0.8255 - val_loss: 0.3185 - val_acc: 0.8810\n",
      "Epoch 5/30\n",
      "100/100 [==============================] - 21s 210ms/step - loss: 0.3801 - acc: 0.8405 - val_loss: 0.3141 - val_acc: 0.8590\n",
      "Epoch 6/30\n",
      "100/100 [==============================] - 20s 199ms/step - loss: 0.3780 - acc: 0.8325 - val_loss: 0.2851 - val_acc: 0.8780\n",
      "Epoch 7/30\n",
      "100/100 [==============================] - 20s 198ms/step - loss: 0.3646 - acc: 0.8340 - val_loss: 0.2775 - val_acc: 0.8800\n",
      "Epoch 8/30\n",
      "100/100 [==============================] - 19s 194ms/step - loss: 0.3385 - acc: 0.8595 - val_loss: 0.2744 - val_acc: 0.8860\n",
      "Epoch 9/30\n",
      "100/100 [==============================] - 21s 206ms/step - loss: 0.3423 - acc: 0.8500 - val_loss: 0.2616 - val_acc: 0.8940\n",
      "Epoch 10/30\n",
      "100/100 [==============================] - 20s 198ms/step - loss: 0.3356 - acc: 0.8555 - val_loss: 0.2762 - val_acc: 0.8840\n",
      "Epoch 11/30\n",
      "100/100 [==============================] - 20s 196ms/step - loss: 0.3321 - acc: 0.8525 - val_loss: 0.2597 - val_acc: 0.8940\n",
      "Epoch 12/30\n",
      "100/100 [==============================] - 20s 199ms/step - loss: 0.3280 - acc: 0.8605 - val_loss: 0.2620 - val_acc: 0.8950\n",
      "Epoch 13/30\n",
      "100/100 [==============================] - 21s 211ms/step - loss: 0.3220 - acc: 0.8610 - val_loss: 0.2555 - val_acc: 0.8970\n",
      "Epoch 14/30\n",
      "100/100 [==============================] - 20s 197ms/step - loss: 0.3043 - acc: 0.8710 - val_loss: 0.2652 - val_acc: 0.8850\n",
      "Epoch 15/30\n",
      "100/100 [==============================] - 19s 195ms/step - loss: 0.3074 - acc: 0.8675 - val_loss: 0.2645 - val_acc: 0.8980\n",
      "Epoch 16/30\n",
      "100/100 [==============================] - 20s 198ms/step - loss: 0.3119 - acc: 0.8700 - val_loss: 0.2474 - val_acc: 0.9020\n",
      "Epoch 17/30\n",
      "100/100 [==============================] - 21s 210ms/step - loss: 0.2995 - acc: 0.8730 - val_loss: 0.2457 - val_acc: 0.9000\n",
      "Epoch 18/30\n",
      "100/100 [==============================] - 20s 196ms/step - loss: 0.3023 - acc: 0.8695 - val_loss: 0.2425 - val_acc: 0.9040\n",
      "Epoch 19/30\n",
      "100/100 [==============================] - 20s 200ms/step - loss: 0.2993 - acc: 0.8715 - val_loss: 0.2463 - val_acc: 0.9070\n",
      "Epoch 20/30\n",
      "100/100 [==============================] - 19s 194ms/step - loss: 0.2880 - acc: 0.8685 - val_loss: 0.2440 - val_acc: 0.9030\n",
      "Epoch 21/30\n",
      "100/100 [==============================] - 21s 206ms/step - loss: 0.3014 - acc: 0.8780 - val_loss: 0.2438 - val_acc: 0.8960\n",
      "Epoch 22/30\n",
      "100/100 [==============================] - 19s 193ms/step - loss: 0.2820 - acc: 0.8795 - val_loss: 0.2439 - val_acc: 0.9030\n",
      "Epoch 23/30\n",
      "100/100 [==============================] - 20s 198ms/step - loss: 0.2970 - acc: 0.8690 - val_loss: 0.2476 - val_acc: 0.9020\n",
      "Epoch 24/30\n",
      "100/100 [==============================] - 20s 195ms/step - loss: 0.2915 - acc: 0.8780 - val_loss: 0.2449 - val_acc: 0.9030\n",
      "Epoch 25/30\n",
      "100/100 [==============================] - 21s 207ms/step - loss: 0.2926 - acc: 0.8720 - val_loss: 0.2425 - val_acc: 0.9030\n",
      "Epoch 26/30\n",
      "100/100 [==============================] - 19s 193ms/step - loss: 0.2972 - acc: 0.8675 - val_loss: 0.2420 - val_acc: 0.9020\n",
      "Epoch 27/30\n",
      "100/100 [==============================] - 19s 193ms/step - loss: 0.2742 - acc: 0.8810 - val_loss: 0.2526 - val_acc: 0.8900\n",
      "Epoch 28/30\n",
      "100/100 [==============================] - 20s 205ms/step - loss: 0.2947 - acc: 0.8690 - val_loss: 0.2434 - val_acc: 0.8950\n",
      "Epoch 29/30\n",
      "100/100 [==============================] - 21s 206ms/step - loss: 0.2826 - acc: 0.8780 - val_loss: 0.2397 - val_acc: 0.9010\n",
      "Epoch 30/30\n",
      "100/100 [==============================] - 19s 194ms/step - loss: 0.2840 - acc: 0.8725 - val_loss: 0.2440 - val_acc: 0.8970\n"
     ]
    }
   ],
   "source": [
    "history = model.fit_generator(\n",
    "    train_generator,\n",
    "    steps_per_epoch=100,\n",
    "    epochs=30,\n",
    "    validation_data=valid_generator,\n",
    "    validation_steps=50)"
   ]
  },
  {
   "cell_type": "code",
   "execution_count": 18,
   "metadata": {},
   "outputs": [
    {
     "data": {
      "image/png": "[encoded data removed]",
      "text/plain": [
       "<Figure size 432x288 with 1 Axes>"
      ]
     },
     "metadata": {
      "needs_background": "light"
     },
     "output_type": "display_data"
    },
    {
     "data": {
      "image/png": "[encoded data removed]",
      "text/plain": [
       "<Figure size 432x288 with 1 Axes>"
      ]
     },
     "metadata": {
      "needs_background": "light"
     },
     "output_type": "display_data"
    }
   ],
   "source": [
    "acc = history.history['acc']\n",
    "val_acc = history.history['val_acc']\n",
    "loss = history.history['loss']\n",
    "val_loss = history.history['val_loss']\n",
    "\n",
    "epochs = range(1, len(acc) + 1)\n",
    "\n",
    "plt.plot(epochs, acc, 'bo', label='Training acc')\n",
    "plt.plot(epochs, val_acc, 'b', label='Validation acc')\n",
    "plt.title('Training and validation accuracy')\n",
    "plt.legend()\n",
    "\n",
    "plt.figure()\n",
    "\n",
    "plt.plot(epochs, loss, 'bo', label='Training loss')\n",
    "plt.plot(epochs, val_loss, 'b', label='Validation loss')\n",
    "plt.title('Training and validation loss')\n",
    "plt.legend()\n",
    "\n",
    "plt.show()"
   ]
  },
  {
   "cell_type": "markdown",
   "metadata": {},
   "source": [
    "Remember that we froze the entire convolutional base to train a densely-connected classifier on top. Once we trained this densely-connected classifier, we can now unfreeze some layers in the base to retrain them to our new data. The earlier parts of the convolutional base find patterns like edges, textures, and colors. The later parts of the convolutional base find larger patterns, like eyes or the sky. The earlier layers are likely to be common to many CV problems; the later layers can be changed a little since they are specialized to each problem, or **fine-tuned**, to this problem.\n",
    "\n",
    "Also, the convolutional base has 14.7 million parameters, and we only have 2000 images w/ data augmentation, so we would run a risk of overfitting if we retrained all the layers of the base, because of the ratio of parameters to data."
   ]
  },
  {
   "cell_type": "code",
   "execution_count": 19,
   "metadata": {},
   "outputs": [],
   "source": [
    "conv_base.trainable = True # <-- Make sure to make the whole base trainable first before setting individual layers\n",
    "\n",
    "# conv_base.layers is a list of layers in the conv_base model\n",
    "for layer in conv_base.layers:\n",
    "    if 'block5' in layer.name:\n",
    "        layer.trainable = True\n",
    "    else:\n",
    "        layer.trainable = False"
   ]
  },
  {
   "cell_type": "code",
   "execution_count": 20,
   "metadata": {},
   "outputs": [
    {
     "name": "stdout",
     "output_type": "stream",
     "text": [
      "<keras.engine.topology.InputLayer object at 0x7f98d0dbb668> False\n",
      "<keras.layers.convolutional.Conv2D object at 0x7f9822d056d8> False\n",
      "<keras.layers.convolutional.Conv2D object at 0x7f9822d056a0> False\n",
      "<keras.layers.pooling.MaxPooling2D object at 0x7f9822d057f0> False\n",
      "<keras.layers.convolutional.Conv2D object at 0x7f9822d31e48> False\n",
      "<keras.layers.convolutional.Conv2D object at 0x7f98224cff60> False\n",
      "<keras.layers.pooling.MaxPooling2D object at 0x7f98224ee320> False\n",
      "<keras.layers.convolutional.Conv2D object at 0x7f982248f5c0> False\n",
      "<keras.layers.convolutional.Conv2D object at 0x7f98224b1fd0> False\n",
      "<keras.layers.convolutional.Conv2D object at 0x7f982244d518> False\n",
      "<keras.layers.pooling.MaxPooling2D object at 0x7f982246d7f0> False\n",
      "<keras.layers.convolutional.Conv2D object at 0x7f982240c5c0> False\n",
      "<keras.layers.convolutional.Conv2D object at 0x7f982242efd0> False\n",
      "<keras.layers.convolutional.Conv2D object at 0x7f98223cb518> False\n",
      "<keras.layers.pooling.MaxPooling2D object at 0x7f98223e97f0> False\n",
      "<keras.layers.convolutional.Conv2D object at 0x7f982238b5c0> True\n",
      "<keras.layers.convolutional.Conv2D object at 0x7f98223abfd0> True\n",
      "<keras.layers.convolutional.Conv2D object at 0x7f9822348518> True\n",
      "<keras.layers.pooling.MaxPooling2D object at 0x7f9822365828> True\n"
     ]
    }
   ],
   "source": [
    "for layer in conv_base.layers:\n",
    "    print(layer, layer.trainable)"
   ]
  },
  {
   "cell_type": "code",
   "execution_count": 21,
   "metadata": {},
   "outputs": [
    {
     "name": "stdout",
     "output_type": "stream",
     "text": [
      "_________________________________________________________________\n",
      "Layer (type)                 Output Shape              Param #   \n",
      "=================================================================\n",
      "vgg16 (Model)                (None, 4, 4, 512)         14714688  \n",
      "_________________________________________________________________\n",
      "flatten_2 (Flatten)          (None, 8192)              0         \n",
      "_________________________________________________________________\n",
      "dense_5 (Dense)              (None, 256)               2097408   \n",
      "_________________________________________________________________\n",
      "dense_6 (Dense)              (None, 1)                 257       \n",
      "=================================================================\n",
      "Total params: 16,812,353\n",
      "Trainable params: 9,177,089\n",
      "Non-trainable params: 7,635,264\n",
      "_________________________________________________________________\n"
     ]
    }
   ],
   "source": [
    "model = models.Sequential()\n",
    "model.add(conv_base)\n",
    "model.add(layers.Flatten())\n",
    "model.add(layers.Dense(256, activation='relu'))\n",
    "model.add(layers.Dense(1, activation='sigmoid'))\n",
    "\n",
    "model.summary()"
   ]
  },
  {
   "cell_type": "code",
   "execution_count": 22,
   "metadata": {},
   "outputs": [],
   "source": [
    "model.compile(loss='binary_crossentropy',\n",
    "              optimizer=optimizers.RMSprop(lr=1e-5),\n",
    "              metrics=['acc'])"
   ]
  },
  {
   "cell_type": "code",
   "execution_count": 23,
   "metadata": {},
   "outputs": [
    {
     "name": "stdout",
     "output_type": "stream",
     "text": [
      "Epoch 1/100\n",
      "100/100 [==============================] - 21s 211ms/step - loss: 0.5374 - acc: 0.7275 - val_loss: 0.3674 - val_acc: 0.8370\n",
      "Epoch 2/100\n",
      "100/100 [==============================] - 20s 203ms/step - loss: 0.3689 - acc: 0.8355 - val_loss: 0.2729 - val_acc: 0.8770\n",
      "Epoch 3/100\n",
      "100/100 [==============================] - 21s 209ms/step - loss: 0.3327 - acc: 0.8495 - val_loss: 0.2495 - val_acc: 0.8900\n",
      "Epoch 4/100\n",
      "100/100 [==============================] - 20s 196ms/step - loss: 0.2974 - acc: 0.8765 - val_loss: 0.2029 - val_acc: 0.9130\n",
      "Epoch 5/100\n",
      "100/100 [==============================] - 19s 193ms/step - loss: 0.2632 - acc: 0.8970 - val_loss: 0.1865 - val_acc: 0.9200\n",
      "Epoch 6/100\n",
      "100/100 [==============================] - 19s 194ms/step - loss: 0.2540 - acc: 0.8900 - val_loss: 0.1834 - val_acc: 0.9180\n",
      "Epoch 7/100\n",
      "100/100 [==============================] - 21s 209ms/step - loss: 0.2301 - acc: 0.9005 - val_loss: 0.1899 - val_acc: 0.9240\n",
      "Epoch 8/100\n",
      "100/100 [==============================] - 20s 196ms/step - loss: 0.2271 - acc: 0.9050 - val_loss: 0.1779 - val_acc: 0.9240\n",
      "Epoch 9/100\n",
      "100/100 [==============================] - 20s 197ms/step - loss: 0.2187 - acc: 0.9085 - val_loss: 0.1751 - val_acc: 0.9300\n",
      "Epoch 10/100\n",
      "100/100 [==============================] - 20s 197ms/step - loss: 0.2008 - acc: 0.9115 - val_loss: 0.1636 - val_acc: 0.9260\n",
      "Epoch 11/100\n",
      "100/100 [==============================] - 21s 209ms/step - loss: 0.1974 - acc: 0.9175 - val_loss: 0.2054 - val_acc: 0.9200\n",
      "Epoch 12/100\n",
      "100/100 [==============================] - 20s 196ms/step - loss: 0.1811 - acc: 0.9220 - val_loss: 0.1757 - val_acc: 0.9240\n",
      "Epoch 13/100\n",
      "100/100 [==============================] - 20s 201ms/step - loss: 0.1770 - acc: 0.9300 - val_loss: 0.1570 - val_acc: 0.9320\n",
      "Epoch 14/100\n",
      "100/100 [==============================] - 19s 195ms/step - loss: 0.1869 - acc: 0.9290 - val_loss: 0.1891 - val_acc: 0.9260\n",
      "Epoch 15/100\n",
      "100/100 [==============================] - 21s 206ms/step - loss: 0.1691 - acc: 0.9325 - val_loss: 0.1675 - val_acc: 0.9260\n",
      "Epoch 16/100\n",
      "100/100 [==============================] - 20s 198ms/step - loss: 0.1645 - acc: 0.9320 - val_loss: 0.1511 - val_acc: 0.9340\n",
      "Epoch 17/100\n",
      "100/100 [==============================] - 19s 193ms/step - loss: 0.1509 - acc: 0.9425 - val_loss: 0.1547 - val_acc: 0.9320\n",
      "Epoch 18/100\n",
      "100/100 [==============================] - 21s 207ms/step - loss: 0.1449 - acc: 0.9430 - val_loss: 0.2100 - val_acc: 0.9210\n",
      "Epoch 19/100\n",
      "100/100 [==============================] - 20s 205ms/step - loss: 0.1489 - acc: 0.9380 - val_loss: 0.1509 - val_acc: 0.9330\n",
      "Epoch 20/100\n",
      "100/100 [==============================] - 19s 195ms/step - loss: 0.1306 - acc: 0.9525 - val_loss: 0.1499 - val_acc: 0.9330\n",
      "Epoch 21/100\n",
      "100/100 [==============================] - 19s 191ms/step - loss: 0.1294 - acc: 0.9480 - val_loss: 0.1610 - val_acc: 0.9300\n",
      "Epoch 22/100\n",
      "100/100 [==============================] - 19s 192ms/step - loss: 0.1307 - acc: 0.9485 - val_loss: 0.1600 - val_acc: 0.9330\n",
      "Epoch 23/100\n",
      "100/100 [==============================] - 20s 204ms/step - loss: 0.1262 - acc: 0.9510 - val_loss: 0.1544 - val_acc: 0.9310\n",
      "Epoch 24/100\n",
      "100/100 [==============================] - 20s 196ms/step - loss: 0.1156 - acc: 0.9565 - val_loss: 0.1546 - val_acc: 0.9380\n",
      "Epoch 25/100\n",
      "100/100 [==============================] - 19s 192ms/step - loss: 0.1065 - acc: 0.9540 - val_loss: 0.1549 - val_acc: 0.9330\n",
      "Epoch 26/100\n",
      "100/100 [==============================] - 19s 191ms/step - loss: 0.1078 - acc: 0.9595 - val_loss: 0.1880 - val_acc: 0.9320\n",
      "Epoch 27/100\n",
      "100/100 [==============================] - 20s 199ms/step - loss: 0.0996 - acc: 0.9610 - val_loss: 0.1515 - val_acc: 0.9310\n",
      "Epoch 28/100\n",
      "100/100 [==============================] - 20s 201ms/step - loss: 0.1092 - acc: 0.9520 - val_loss: 0.1598 - val_acc: 0.9370\n",
      "Epoch 29/100\n",
      "100/100 [==============================] - 19s 194ms/step - loss: 0.0985 - acc: 0.9615 - val_loss: 0.1823 - val_acc: 0.9330\n",
      "Epoch 30/100\n",
      "100/100 [==============================] - 20s 195ms/step - loss: 0.0918 - acc: 0.9645 - val_loss: 0.1632 - val_acc: 0.9370\n",
      "Epoch 31/100\n",
      "100/100 [==============================] - 20s 197ms/step - loss: 0.0911 - acc: 0.9670 - val_loss: 0.1495 - val_acc: 0.9370\n",
      "Epoch 32/100\n",
      "100/100 [==============================] - 20s 201ms/step - loss: 0.0789 - acc: 0.9730 - val_loss: 0.1705 - val_acc: 0.9370\n",
      "Epoch 33/100\n",
      "100/100 [==============================] - 19s 195ms/step - loss: 0.0887 - acc: 0.9660 - val_loss: 0.1950 - val_acc: 0.9310\n",
      "Epoch 34/100\n",
      "100/100 [==============================] - 20s 204ms/step - loss: 0.0856 - acc: 0.9670 - val_loss: 0.1690 - val_acc: 0.9360\n",
      "Epoch 35/100\n",
      "100/100 [==============================] - 20s 196ms/step - loss: 0.0794 - acc: 0.9685 - val_loss: 0.2064 - val_acc: 0.9260\n",
      "Epoch 36/100\n",
      "100/100 [==============================] - 20s 204ms/step - loss: 0.0906 - acc: 0.9640 - val_loss: 0.1665 - val_acc: 0.9350\n",
      "Epoch 37/100\n",
      "100/100 [==============================] - 19s 191ms/step - loss: 0.0751 - acc: 0.9735 - val_loss: 0.1840 - val_acc: 0.9330\n",
      "Epoch 38/100\n",
      "100/100 [==============================] - 19s 190ms/step - loss: 0.0919 - acc: 0.9680 - val_loss: 0.2409 - val_acc: 0.9270\n",
      "Epoch 39/100\n",
      "100/100 [==============================] - 19s 194ms/step - loss: 0.0821 - acc: 0.9675 - val_loss: 0.2368 - val_acc: 0.9210\n",
      "Epoch 40/100\n",
      "100/100 [==============================] - 20s 204ms/step - loss: 0.0763 - acc: 0.9665 - val_loss: 0.3640 - val_acc: 0.9010\n",
      "Epoch 41/100\n",
      "100/100 [==============================] - 19s 192ms/step - loss: 0.0532 - acc: 0.9805 - val_loss: 0.1793 - val_acc: 0.9340\n",
      "Epoch 42/100\n",
      "100/100 [==============================] - 19s 193ms/step - loss: 0.0736 - acc: 0.9720 - val_loss: 0.2059 - val_acc: 0.9290\n",
      "Epoch 43/100\n",
      "100/100 [==============================] - 19s 192ms/step - loss: 0.0652 - acc: 0.9740 - val_loss: 0.1780 - val_acc: 0.9350\n",
      "Epoch 44/100\n",
      "100/100 [==============================] - 21s 207ms/step - loss: 0.0554 - acc: 0.9780 - val_loss: 0.2075 - val_acc: 0.9320\n",
      "Epoch 45/100\n",
      "100/100 [==============================] - 19s 192ms/step - loss: 0.0656 - acc: 0.9770 - val_loss: 0.2248 - val_acc: 0.9290\n",
      "Epoch 46/100\n",
      "100/100 [==============================] - 19s 194ms/step - loss: 0.0566 - acc: 0.9775 - val_loss: 0.1851 - val_acc: 0.9390\n",
      "Epoch 47/100\n",
      "100/100 [==============================] - 19s 194ms/step - loss: 0.0537 - acc: 0.9835 - val_loss: 0.2384 - val_acc: 0.9290\n",
      "Epoch 48/100\n",
      "100/100 [==============================] - 21s 206ms/step - loss: 0.0638 - acc: 0.9755 - val_loss: 0.1945 - val_acc: 0.9410\n",
      "Epoch 49/100\n",
      "100/100 [==============================] - 20s 203ms/step - loss: 0.0663 - acc: 0.9765 - val_loss: 0.1855 - val_acc: 0.9380\n",
      "Epoch 50/100\n",
      "100/100 [==============================] - 20s 198ms/step - loss: 0.0566 - acc: 0.9800 - val_loss: 0.1755 - val_acc: 0.9380\n",
      "Epoch 51/100\n",
      "100/100 [==============================] - 19s 194ms/step - loss: 0.0643 - acc: 0.9745 - val_loss: 0.2685 - val_acc: 0.9260\n",
      "Epoch 52/100\n",
      "100/100 [==============================] - 21s 205ms/step - loss: 0.0474 - acc: 0.9820 - val_loss: 0.2011 - val_acc: 0.9350\n",
      "Epoch 53/100\n",
      "100/100 [==============================] - 19s 194ms/step - loss: 0.0541 - acc: 0.9810 - val_loss: 0.2093 - val_acc: 0.9330\n",
      "Epoch 54/100\n",
      "100/100 [==============================] - 19s 192ms/step - loss: 0.0485 - acc: 0.9830 - val_loss: 0.2463 - val_acc: 0.9320\n",
      "Epoch 55/100\n",
      "100/100 [==============================] - 19s 194ms/step - loss: 0.0589 - acc: 0.9775 - val_loss: 0.1820 - val_acc: 0.9320\n",
      "Epoch 56/100\n",
      "100/100 [==============================] - 21s 207ms/step - loss: 0.0498 - acc: 0.9845 - val_loss: 0.1897 - val_acc: 0.9360\n",
      "Epoch 57/100\n",
      "100/100 [==============================] - 19s 192ms/step - loss: 0.0307 - acc: 0.9895 - val_loss: 0.2849 - val_acc: 0.9230\n",
      "Epoch 58/100\n",
      "100/100 [==============================] - 19s 192ms/step - loss: 0.0441 - acc: 0.9860 - val_loss: 0.1977 - val_acc: 0.9360\n",
      "Epoch 59/100\n",
      "100/100 [==============================] - 20s 198ms/step - loss: 0.0504 - acc: 0.9810 - val_loss: 0.1942 - val_acc: 0.9350\n",
      "Epoch 60/100\n",
      "100/100 [==============================] - 21s 208ms/step - loss: 0.0469 - acc: 0.9830 - val_loss: 0.1854 - val_acc: 0.9380\n"
     ]
    },
    {
     "name": "stdout",
     "output_type": "stream",
     "text": [
      "Epoch 61/100\n",
      "100/100 [==============================] - 19s 193ms/step - loss: 0.0560 - acc: 0.9805 - val_loss: 0.2300 - val_acc: 0.9330\n",
      "Epoch 62/100\n",
      "100/100 [==============================] - 20s 195ms/step - loss: 0.0386 - acc: 0.9865 - val_loss: 0.1912 - val_acc: 0.9400\n",
      "Epoch 63/100\n",
      "100/100 [==============================] - 19s 193ms/step - loss: 0.0430 - acc: 0.9825 - val_loss: 0.2034 - val_acc: 0.9360\n",
      "Epoch 64/100\n",
      "100/100 [==============================] - 21s 207ms/step - loss: 0.0430 - acc: 0.9845 - val_loss: 0.1998 - val_acc: 0.9370\n",
      "Epoch 65/100\n",
      "100/100 [==============================] - 21s 208ms/step - loss: 0.0348 - acc: 0.9865 - val_loss: 0.2095 - val_acc: 0.9390\n",
      "Epoch 66/100\n",
      "100/100 [==============================] - 19s 194ms/step - loss: 0.0378 - acc: 0.9845 - val_loss: 0.2254 - val_acc: 0.9330\n",
      "Epoch 67/100\n",
      "100/100 [==============================] - 19s 193ms/step - loss: 0.0466 - acc: 0.9810 - val_loss: 0.2465 - val_acc: 0.9370\n",
      "Epoch 68/100\n",
      "100/100 [==============================] - 20s 205ms/step - loss: 0.0412 - acc: 0.9855 - val_loss: 0.2539 - val_acc: 0.9320\n",
      "Epoch 69/100\n",
      "100/100 [==============================] - 19s 194ms/step - loss: 0.0400 - acc: 0.9870 - val_loss: 0.4053 - val_acc: 0.9120\n",
      "Epoch 70/100\n",
      "100/100 [==============================] - 20s 196ms/step - loss: 0.0343 - acc: 0.9860 - val_loss: 0.2070 - val_acc: 0.9400\n",
      "Epoch 71/100\n",
      "100/100 [==============================] - 19s 195ms/step - loss: 0.0385 - acc: 0.9850 - val_loss: 0.2218 - val_acc: 0.9410\n",
      "Epoch 72/100\n",
      "100/100 [==============================] - 20s 203ms/step - loss: 0.0326 - acc: 0.9870 - val_loss: 0.2472 - val_acc: 0.9340\n",
      "Epoch 73/100\n",
      "100/100 [==============================] - 20s 196ms/step - loss: 0.0320 - acc: 0.9875 - val_loss: 0.2286 - val_acc: 0.9390\n",
      "Epoch 74/100\n",
      "100/100 [==============================] - 19s 193ms/step - loss: 0.0298 - acc: 0.9895 - val_loss: 0.2459 - val_acc: 0.9370\n",
      "Epoch 75/100\n",
      "100/100 [==============================] - 20s 201ms/step - loss: 0.0284 - acc: 0.9915 - val_loss: 0.2933 - val_acc: 0.9270\n",
      "Epoch 76/100\n",
      "100/100 [==============================] - 20s 202ms/step - loss: 0.0280 - acc: 0.9875 - val_loss: 0.2398 - val_acc: 0.9330\n",
      "Epoch 77/100\n",
      "100/100 [==============================] - 20s 199ms/step - loss: 0.0328 - acc: 0.9895 - val_loss: 0.3134 - val_acc: 0.9220\n",
      "Epoch 78/100\n",
      "100/100 [==============================] - 19s 194ms/step - loss: 0.0371 - acc: 0.9865 - val_loss: 0.2664 - val_acc: 0.9260\n",
      "Epoch 79/100\n",
      "100/100 [==============================] - 19s 195ms/step - loss: 0.0411 - acc: 0.9825 - val_loss: 0.2406 - val_acc: 0.9420\n",
      "Epoch 80/100\n",
      "100/100 [==============================] - 20s 203ms/step - loss: 0.0248 - acc: 0.9920 - val_loss: 0.2989 - val_acc: 0.9270\n",
      "Epoch 81/100\n",
      "100/100 [==============================] - 21s 207ms/step - loss: 0.0232 - acc: 0.9905 - val_loss: 0.2452 - val_acc: 0.9370\n",
      "Epoch 82/100\n",
      "100/100 [==============================] - 19s 192ms/step - loss: 0.0279 - acc: 0.9890 - val_loss: 0.2498 - val_acc: 0.9420\n",
      "Epoch 83/100\n",
      "100/100 [==============================] - 19s 194ms/step - loss: 0.0306 - acc: 0.9890 - val_loss: 0.1961 - val_acc: 0.9450\n",
      "Epoch 84/100\n",
      "100/100 [==============================] - 20s 197ms/step - loss: 0.0298 - acc: 0.9900 - val_loss: 0.2198 - val_acc: 0.9470\n",
      "Epoch 85/100\n",
      "100/100 [==============================] - 20s 202ms/step - loss: 0.0273 - acc: 0.9905 - val_loss: 0.2796 - val_acc: 0.9310\n",
      "Epoch 86/100\n",
      "100/100 [==============================] - 19s 193ms/step - loss: 0.0271 - acc: 0.9890 - val_loss: 0.2983 - val_acc: 0.9260\n",
      "Epoch 87/100\n",
      "100/100 [==============================] - 19s 193ms/step - loss: 0.0264 - acc: 0.9895 - val_loss: 0.2709 - val_acc: 0.9330\n",
      "Epoch 88/100\n",
      "100/100 [==============================] - 20s 198ms/step - loss: 0.0316 - acc: 0.9910 - val_loss: 0.2507 - val_acc: 0.9330\n",
      "Epoch 89/100\n",
      "100/100 [==============================] - 20s 204ms/step - loss: 0.0215 - acc: 0.9935 - val_loss: 0.2374 - val_acc: 0.9370\n",
      "Epoch 90/100\n",
      "100/100 [==============================] - 20s 199ms/step - loss: 0.0216 - acc: 0.9930 - val_loss: 0.2509 - val_acc: 0.9350\n",
      "Epoch 91/100\n",
      "100/100 [==============================] - 19s 192ms/step - loss: 0.0319 - acc: 0.9885 - val_loss: 0.5083 - val_acc: 0.9120\n",
      "Epoch 92/100\n",
      "100/100 [==============================] - 19s 194ms/step - loss: 0.0227 - acc: 0.9900 - val_loss: 0.2561 - val_acc: 0.9410\n",
      "Epoch 93/100\n",
      "100/100 [==============================] - 20s 205ms/step - loss: 0.0219 - acc: 0.9905 - val_loss: 0.2764 - val_acc: 0.9380\n",
      "Epoch 94/100\n",
      "100/100 [==============================] - 19s 195ms/step - loss: 0.0267 - acc: 0.9905 - val_loss: 0.5657 - val_acc: 0.9030\n",
      "Epoch 95/100\n",
      "100/100 [==============================] - 19s 192ms/step - loss: 0.0245 - acc: 0.9905 - val_loss: 0.2534 - val_acc: 0.9460\n",
      "Epoch 96/100\n",
      "100/100 [==============================] - 20s 198ms/step - loss: 0.0158 - acc: 0.9940 - val_loss: 0.3426 - val_acc: 0.9310\n",
      "Epoch 97/100\n",
      "100/100 [==============================] - 21s 209ms/step - loss: 0.0246 - acc: 0.9945 - val_loss: 0.2635 - val_acc: 0.9400\n",
      "Epoch 98/100\n",
      "100/100 [==============================] - 19s 194ms/step - loss: 0.0174 - acc: 0.9945 - val_loss: 0.2513 - val_acc: 0.9420\n",
      "Epoch 99/100\n",
      "100/100 [==============================] - 19s 192ms/step - loss: 0.0184 - acc: 0.9935 - val_loss: 0.2825 - val_acc: 0.9360\n",
      "Epoch 100/100\n",
      "100/100 [==============================] - 19s 193ms/step - loss: 0.0256 - acc: 0.9900 - val_loss: 0.2754 - val_acc: 0.9340\n"
     ]
    }
   ],
   "source": [
    "history = model.fit_generator(\n",
    "    train_generator,\n",
    "    steps_per_epoch=100,\n",
    "    epochs=100,\n",
    "    validation_data=valid_generator,\n",
    "    validation_steps=50)"
   ]
  },
  {
   "cell_type": "code",
   "execution_count": 24,
   "metadata": {},
   "outputs": [
    {
     "data": {
      "image/png": "[encoded data removed]",
      "text/plain": [
       "<Figure size 432x288 with 1 Axes>"
      ]
     },
     "metadata": {
      "needs_background": "light"
     },
     "output_type": "display_data"
    },
    {
     "data": {
      "image/png": "[encoded data removed]",
      "text/plain": [
       "<Figure size 432x288 with 1 Axes>"
      ]
     },
     "metadata": {
      "needs_background": "light"
     },
     "output_type": "display_data"
    }
   ],
   "source": [
    "acc = history.history['acc']\n",
    "val_acc = history.history['val_acc']\n",
    "loss = history.history['loss']\n",
    "val_loss = history.history['val_loss']\n",
    "\n",
    "epochs = range(1, len(acc) + 1)\n",
    "\n",
    "plt.plot(epochs, acc, 'bo', label='Training acc')\n",
    "plt.plot(epochs, val_acc, 'b', label='Validation acc')\n",
    "plt.title('Training and validation accuracy')\n",
    "plt.legend()\n",
    "\n",
    "plt.figure()\n",
    "\n",
    "plt.plot(epochs, loss, 'bo', label='Training loss')\n",
    "plt.plot(epochs, val_loss, 'b', label='Validation loss')\n",
    "plt.title('Training and validation loss')\n",
    "plt.legend()\n",
    "\n",
    "plt.show()"
   ]
  },
  {
   "cell_type": "code",
   "execution_count": 25,
   "metadata": {},
   "outputs": [
    {
     "name": "stdout",
     "output_type": "stream",
     "text": [
      "Found 1000 images belonging to 2 classes.\n"
     ]
    }
   ],
   "source": [
    "train_dir = os.path.join(base_dir, 'train')\n",
    "test_generator = valid_datagen.flow_from_directory(\n",
    "    test_dir,\n",
    "    target_size=(150, 150),\n",
    "    batch_size=20,\n",
    "    class_mode='binary')\n",
    "\n",
    "test_loss, test_acc = model.evaluate_generator(test_generator, steps=50)"
   ]
  },
  {
   "cell_type": "code",
   "execution_count": 26,
   "metadata": {},
   "outputs": [
    {
     "data": {
      "text/plain": [
       "0.9259999930858612"
      ]
     },
     "execution_count": 26,
     "metadata": {},
     "output_type": "execute_result"
    }
   ],
   "source": [
    "test_acc"
   ]
  },
  {
   "cell_type": "code",
   "execution_count": null,
   "metadata": {},
   "outputs": [],
   "source": []
  }
 ],
 "metadata": {
  "kernelspec": {
   "display_name": "Python 3",
   "language": "python",
   "name": "python3"
  },
  "language_info": {
   "codemirror_mode": {
    "name": "ipython",
    "version": 3
   },
   "file_extension": ".py",
   "mimetype": "text/x-python",
   "name": "python",
   "nbconvert_exporter": "python",
   "pygments_lexer": "ipython3",
   "version": "3.6.7"
  }
 },
 "nbformat": 4,
 "nbformat_minor": 2
}
